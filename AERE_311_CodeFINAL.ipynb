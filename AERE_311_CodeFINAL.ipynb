{
 "cells": [
  {
   "cell_type": "code",
   "execution_count": 1,
   "id": "e5c7cace",
   "metadata": {},
   "outputs": [],
   "source": [
    "#Imports\n",
    "\n",
    "import numpy as np\n",
    "from scipy.optimize import fsolve\n",
    "import math\n",
    "import bisect\n",
    "import scipy.optimize as opt\n"
   ]
  },
  {
   "cell_type": "markdown",
   "id": "97d07668",
   "metadata": {},
   "source": [
    "# Homework 0 Solutions: "
   ]
  },
  {
   "cell_type": "code",
   "execution_count": 2,
   "id": "f7b48489",
   "metadata": {},
   "outputs": [],
   "source": [
    "# Functions\n",
    "def st(m,gam):\n",
    "    return 1 + .5 * (gam - 1)*m**2\n",
    "\n",
    "def f1_res(m, ast_by_a, gam):\n",
    "    return ast_by_a - m*((gam+1)/(2+(gam-1)*m**2))**(.5*(gam+1)/(gam-1))\n",
    "\n",
    "def f2_res(sp, ast_by_a, gam):\n",
    "    return ast_by_a - ( ((2/(gam-1))*(sp**((gam-1)/gam) - 1))**.5) * (((((gam+1)/2)**(gam/(gam-1)))/sp)**(.5*(gam+1)/gam))\n",
    "\n",
    "def tbm_res(theta, m1, beta, gam):\n",
    "    tmp = (m1*math.sin(beta))**2\n",
    "    return math.tan(beta)/math.tan(beta-theta) - (gam+1)*tmp/(2+(gam-1)*tmp)\n"
   ]
  },
  {
   "cell_type": "code",
   "execution_count": 3,
   "id": "90285588",
   "metadata": {},
   "outputs": [
    {
     "name": "stdout",
     "output_type": "stream",
     "text": [
      "1a: 0.3059, \t 1b: 2.197\n"
     ]
    }
   ],
   "source": [
    "# Problem 1:\n",
    "m1 = fsolve(f1_res, x0=.5, args=(.5, 1.4))[0]\n",
    "m2 = fsolve(f1_res, x0=1.5, args=(.5, 1.4))[0]\n",
    "print('1a: %5.4f, \\t 1b: %5.3f' %(m1, m2))"
   ]
  },
  {
   "cell_type": "code",
   "execution_count": 4,
   "id": "42916b7e",
   "metadata": {},
   "outputs": [
    {
     "name": "stdout",
     "output_type": "stream",
     "text": [
      "2a: 1.067, \t 2b: 10.646\n"
     ]
    }
   ],
   "source": [
    "# Problem 2:\n",
    "sp1 = fsolve(f2_res, x0=1.1, args=(.5, 1.4))[0]\n",
    "sp2 = fsolve(f2_res, x0=2.5, args=(.5, 1.4))[0]\n",
    "print('2a: %5.3f, \\t 2b: %5.3f'%(sp1, sp2))"
   ]
  },
  {
   "cell_type": "code",
   "execution_count": 5,
   "id": "57796c8b",
   "metadata": {},
   "outputs": [
    {
     "name": "stdout",
     "output_type": "stream",
     "text": [
      "3a: 19.9992, \t 3b: 20.001\n"
     ]
    },
    {
     "name": "stderr",
     "output_type": "stream",
     "text": [
      "/mnt/bgfs/mbriaz/4855766/ipykernel_451694/674474303.py:13: DeprecationWarning: Conversion of an array with ndim > 0 to a scalar is deprecated, and will error in future. Ensure you extract a single element from your array before performing this operation. (Deprecated NumPy 1.25.)\n",
      "  return math.tan(beta)/math.tan(beta-theta) - (gam+1)*tmp/(2+(gam-1)*tmp)\n"
     ]
    }
   ],
   "source": [
    "# Problem 3:\n",
    "deg = math.pi/180\n",
    "theta1 = fsolve(tbm_res, x0=0, args=(5, 29.8*deg, 1.4))[0]\n",
    "theta2 = fsolve(tbm_res, x0=0, args=(5, 84.556*deg, 1.4))[0]\n",
    "print('3a: %5.4f, \\t 3b: %5.3f'%(theta1/deg, theta2/deg))"
   ]
  },
  {
   "cell_type": "markdown",
   "id": "3fb170b8",
   "metadata": {},
   "source": [
    "# Homework 1 Solutions:"
   ]
  },
  {
   "cell_type": "code",
   "execution_count": 6,
   "id": "f312bd0c",
   "metadata": {},
   "outputs": [
    {
     "name": "stdout",
     "output_type": "stream",
     "text": [
      "1a: 0.254 [kg/m^3], 1b: -96.584 [J/kg*K]\n"
     ]
    }
   ],
   "source": [
    "# Problem 1:\n",
    "R = 287.05\n",
    "gam = 1.4\n",
    "p1 = 5000\n",
    "r1 = .2\n",
    "p2 = 7000\n",
    "r2 = r1*((p2/p1)**(1/gam)) #For Isentropic Process\n",
    "del_s=-R*math.log(p2/p1) #For Isothermal Process\n",
    "print('1a: %5.3f [kg/m^3], 1b: %5.3f [J/kg*K]'%(r2,del_s))"
   ]
  },
  {
   "cell_type": "code",
   "execution_count": 7,
   "id": "e250287e",
   "metadata": {},
   "outputs": [
    {
     "name": "stdout",
     "output_type": "stream",
     "text": [
      "2a: 303093.000 [J/kg], 2b: 234906.000 [J/kg], 2c: 244.746 [J/kg]\n"
     ]
    }
   ],
   "source": [
    "# Problem 2:\n",
    "atm = 101325\n",
    "T1 = 288\n",
    "T2 = 645\n",
    "cp = .849e3\n",
    "cv = .658e3\n",
    "p1 = 1*atm\n",
    "p2 = 10*atm\n",
    "\n",
    "del_h = cp*(T2-T1)\n",
    "del_u = cv*(T2-T1)\n",
    "R = cp - cv\n",
    "del_s = cp*math.log(T2/T1) - R*math.log(p2/p1)\n",
    "print('2a: %5.3f [J/kg], 2b: %5.3f [J/kg], 2c: %5.3f [J/kg]'%(del_h, del_u, del_s))"
   ]
  },
  {
   "cell_type": "code",
   "execution_count": 8,
   "id": "a35415d6",
   "metadata": {},
   "outputs": [
    {
     "name": "stdout",
     "output_type": "stream",
     "text": [
      "3a: 233.076 [K], 3b: 1.514 [kg/m^3]\n"
     ]
    }
   ],
   "source": [
    "# Problem 3:\n",
    "R = 287.05\n",
    "gam = 1.4\n",
    "atm = 101325\n",
    "T0 = 450;\n",
    "p0 = 10*atm\n",
    "p1 = 1*atm\n",
    "T1 = T0*((p1/p0)**((gam-1)/gam)) #Isentropic Process\n",
    "r1 = p1/(R*T1)\n",
    "print('3a: %5.3f [K], 3b: %5.3f [kg/m^3]'%(T1, r1))"
   ]
  },
  {
   "cell_type": "code",
   "execution_count": 9,
   "id": "c873338a",
   "metadata": {},
   "outputs": [
    {
     "name": "stdout",
     "output_type": "stream",
     "text": [
      "4a: 16616.176 [kPa], 4b: 26.211 [kg/m^3]\n"
     ]
    }
   ],
   "source": [
    "# Problem 4:\n",
    "R = 287.05\n",
    "gam = 1.4\n",
    "cp = gam*R/(gam-1)\n",
    "p = 5e3\n",
    "r = .08\n",
    "u = 2e3\n",
    "T = p/(r*R)\n",
    "T0 = T + ((u**2)/(cp*2)) #Energy Conservation\n",
    "p0 = p*( (T0/T)**(gam/(gam - 1))) #Isentropic Process\n",
    "r0 = r*( (T0/T)**(1/(gam-1))) #Isentropic Process\n",
    "print('4a: %5.3f [kPa], 4b: %5.3f [kg/m^3]'%(p0/1e3, r0))"
   ]
  },
  {
   "cell_type": "code",
   "execution_count": 10,
   "id": "7107f1fd",
   "metadata": {},
   "outputs": [
    {
     "name": "stdout",
     "output_type": "stream",
     "text": [
      "5a: 187.538 [K], 5b: 0.548 [atm], 5c: 1483.521 [atm]\n"
     ]
    }
   ],
   "source": [
    "# Problem 5:\n",
    "R = 287.05\n",
    "gam = 1.4\n",
    "atm = 101325\n",
    "cp = gam*R/(gam-1)\n",
    "p0 = 1500*atm\n",
    "T0 = 1800\n",
    "u = 1.8e3\n",
    "T = T0 - ((u**2)/(cp*2)) #Energy Conservation\n",
    "p = p0*((T/T0)**(gam/(gam-1))) # Isentropic Process\n",
    "r = p/(R*T)\n",
    "p_bernoulli = p0 - .5*(r*(u**2))\n",
    "print('5a: %5.3f [K], 5b: %5.3f [atm], 5c: %5.3f [atm]'%(T, p/atm, p_bernoulli/atm))\n"
   ]
  },
  {
   "cell_type": "code",
   "execution_count": 11,
   "id": "24a83a0e",
   "metadata": {},
   "outputs": [
    {
     "name": "stdout",
     "output_type": "stream",
     "text": [
      "6a: 1.893, 6b: 533.533 [m/s]\n"
     ]
    }
   ],
   "source": [
    "# Problem 6:\n",
    "R = 287.05\n",
    "gam = 1.4\n",
    "T0_T = (1+gam)/2 #Energy Conservation\n",
    "p0_p = (T0_T)**(gam/(gam-1)) #Isentropic Process\n",
    "T0 = 850\n",
    "T = T0/((1+gam)/2)\n",
    "u = math.sqrt(gam*R*T)\n",
    "print('6a: %5.3f, 6b: %5.3f [m/s]'%(p0_p,u))"
   ]
  },
  {
   "cell_type": "markdown",
   "id": "c83aa7ed",
   "metadata": {},
   "source": [
    "# Homework 2 Solutions: "
   ]
  },
  {
   "cell_type": "code",
   "execution_count": 12,
   "id": "ce3c5a58",
   "metadata": {},
   "outputs": [
    {
     "name": "stdout",
     "output_type": "stream",
     "text": [
      "1a: 0.213 [kg/m^3] 1b: 367.418 [K], 1c: 0.721 \n"
     ]
    }
   ],
   "source": [
    "# Problem 1:\n",
    "r1 = .08 # [kg/m^3]\n",
    "p1 = 5000 # [Pa]\n",
    "u1 = 591.6 # [m/s]\n",
    "u2 = 221.852 # [m/s]\n",
    "R = 287.05 # [J/kg*K]\n",
    "gam = 1.4\n",
    "cp = gam*R/(gam-1)\n",
    "T1 = p1/(r1*R)\n",
    "\n",
    "r2 = r1*u1/u2 #a\n",
    "T2 = T1 + (u1**2 - u2**2)/(2*cp) #b\n",
    "p02_p01 = (r2/r1)*(T2/T1)**(-1/(gam-1)) #c\n",
    "\n",
    "print('1a: %5.3f [kg/m^3] 1b: %5.3f [K], 1c: %5.3f '%(r2, T2, p02_p01))"
   ]
  },
  {
   "cell_type": "code",
   "execution_count": 13,
   "id": "7b6d60a7",
   "metadata": {},
   "outputs": [
    {
     "name": "stdout",
     "output_type": "stream",
     "text": [
      "2a: 338.388 [K], 2b: 0.135 [kg/m^3], 2c: -6004.312 [N], 2d: 2242.125 [Pa], 2e: -2105.812 [Pa]\n"
     ]
    }
   ],
   "source": [
    "# Problem 2:\n",
    "R = 287.05 # [J/kg*K]\n",
    "gam = 1.4\n",
    "A1 = .5 # [m^2]\n",
    "r1 = .1 # [kg/m^3]\n",
    "T1 = 300 # [K]\n",
    "u1 = 298.95 # [m/s]\n",
    "\n",
    "A2 = 1 #[m^2]\n",
    "u2 = 110.621 # [m/s]\n",
    "\n",
    "#b find the density in state 2\n",
    "#From quasi-1D analysis, r1*u1*A1 = r2*u2*A2\n",
    "r2 = r1*u1*A1/(u2*A2)\n",
    "\n",
    "#a use b to solve for temperature in state 2 using energy conservation\n",
    "T2 = T1 + (u1**2 - u2**2)/(2*cp)\n",
    "\n",
    "#c Finding the force of the duct, use the derivation from in class\n",
    "#F = -(p2*A2 - p1*A1) - mdot*(u2-u1) ; mdot = r1*u1*A1 = r2*u2*A2)\n",
    "\n",
    "p1 = r1*R*T1 # [Pa]\n",
    "p2 = r2*R*T2 # [Pa]\n",
    "mdot = r1*u1*A1 # [kg/s]\n",
    "\n",
    "F = -(p2*A2 - p1*A1) - mdot*(u2-u1)\n",
    "\n",
    "#Now if, u1 = 520.828 [m/s] and u2 = 680.936 [m/s], with r1 and T1 unchanged\n",
    "#find p2 and force on the duct\n",
    "\n",
    "u1_e = 520.828 # [m/s]\n",
    "u2_e = 680.936 # [m/s]\n",
    "r1_e = .1 # [kg/m^3]\n",
    "T1_e = 300 # [K]\n",
    "r2_e = r1_e*u1_e*A1/(u2_e*A2)\n",
    "T2_e = T1_e + (u1_e**2 - u2_e**2)/(2*cp)\n",
    "p1_e = r1_e*R*T1_e # [Pa]\n",
    "p2_e = r2_e*R*T2_e # [Pa]\n",
    "mdot_e = r1_e*u1_e*A1 # [kg/s]\n",
    "\n",
    "F_e = -(p2_e*A2 - p1_e*A1) - mdot_e*(u2_e-u1_e)\n",
    "\n",
    "print('2a: %5.3f [K], 2b: %5.3f [kg/m^3], 2c: %5.3f [N], 2d: %5.3f [Pa], 2e: %5.3f [Pa]'%(T2, r2, F, p2_e, F_e))"
   ]
  },
  {
   "cell_type": "code",
   "execution_count": 14,
   "id": "3516f3fd",
   "metadata": {},
   "outputs": [
    {
     "name": "stdout",
     "output_type": "stream",
     "text": [
      "3a: 0.118 [atm], 3b: -3729.082 [kN], 3c: 6021.064 [K]\n"
     ]
    }
   ],
   "source": [
    "#  Problem 3:\n",
    "De = 3.66 # [m]\n",
    "Ae = math.pi*De**2/4 # [m^2]\n",
    "ue = 3196.74 # [m/s]\n",
    "mdot = 1500 # [kg/s]\n",
    "\n",
    "atm = 101325\n",
    "p0 = 80*atm\n",
    "pa = 1*atm\n",
    "\n",
    "#a find the exit pressure, pe\n",
    "#Find the exit density and exit temperature:\n",
    "re = mdot/(ue*Ae) # [kg/m^3]\n",
    "#solve for Te\n",
    "cp = gam*R/(gam-1)\n",
    "def Te_eq_res(Te):\n",
    "    return p0/(re*R*Te) - (1 + ue**2/(2*cp*Te))**(gam/(gam-1))\n",
    "Te = fsolve(Te_eq_res, x0 = 300)[0]\n",
    "\n",
    "#b find the thrust\n",
    "F = -((re-pa)*Ae +mdot*ue)/1000 # [kN]\n",
    "\n",
    "#Energy Conservation\n",
    "T0 = Te + (ue**2)/(2*cp)\n",
    "\n",
    "print('3a: %5.3f [atm], 3b: %5.3f [kN], 3c: %5.3f [K]'%(re*R*Te/atm, F, T0))"
   ]
  },
  {
   "cell_type": "code",
   "execution_count": 15,
   "id": "0b3f867e",
   "metadata": {},
   "outputs": [
    {
     "name": "stdout",
     "output_type": "stream",
     "text": [
      "4a: 50.000 [kg/s], 4b: 10600.000 [N]\n"
     ]
    }
   ],
   "source": [
    "# Problem 4:\n",
    "\n",
    "vinf = 100 #[m/s]\n",
    "rinf = 1 # [kg/m^3]\n",
    "H = 2 # [m]\n",
    "\n",
    "#a find the mass flow rate across surfaces 3 and 4\n",
    "fr = .25*rinf*vinf*H # [kg/s]\n",
    "\n",
    "#b find the drag on the airfoil\n",
    "drag = .53*rinf*vinf**2*H # [N]\n",
    "\n",
    "print('4a: %5.3f [kg/s], 4b: %5.3f [N]' %(fr, drag))\n"
   ]
  },
  {
   "cell_type": "markdown",
   "id": "6f160e75",
   "metadata": {},
   "source": [
    "# Homework 3 Solutions: "
   ]
  },
  {
   "cell_type": "code",
   "execution_count": 16,
   "id": "b74f5b81",
   "metadata": {},
   "outputs": [],
   "source": [
    "# Functions\n",
    "def normal_shock_ratios(M1, gam):\n",
    "    pr = 1 + ((2*gam/(gam + 1)) * ((M1**2) - 1))\n",
    "    dr = ((gam + 1)*M1**2)/(2 + (gam-1)*M1**2)\n",
    "    x = pr\n",
    "    y = (dr)**-1\n",
    "    tr = x*y\n",
    "    ur = y\n",
    "    x = ( ((gam+1)*M1**2)/((gam-1)*M1**2 + 2))**(gam/(gam-1))\n",
    "    y = ( (gam + 1) / (2*gam*M1**2 - (gam - 1)) )** (1/(gam - 1))\n",
    "    p0r = x*y\n",
    "    x = 1 + ((gam - 1)/2) * M1**2\n",
    "    y = (gam*M1**2) - (gam - 1)/2\n",
    "    M2 = math.sqrt(x/y)\n",
    "    t0r = ((tr)**-1) * ( (1 + ((gam-1)/2)* M1**2) / (1 + ((gam-1)/2)*M2**2))\n",
    "    cv = R / (gam - 1)\n",
    "    ds = cv * math.log(tr) - R * math.log(dr)\n",
    "    return pr, dr, tr, ur, p0r, M2, t0r, ds\n",
    "\n",
    "def sT(M, gam):\n",
    "    sT = 1 + ((gam-1)*M**2)/2\n",
    "    return sT\n",
    "\n",
    "def sp(M, gam):\n",
    "    sp = sT(M, gam)**(gam/(gam-1))\n",
    "    return sp"
   ]
  },
  {
   "cell_type": "code",
   "execution_count": 17,
   "id": "9df7d39f",
   "metadata": {},
   "outputs": [
    {
     "name": "stdout",
     "output_type": "stream",
     "text": [
      "1a: 20.955 [atm], 1b: 565.340 [K]\n"
     ]
    }
   ],
   "source": [
    "# Problem 1:\n",
    "gam = 1.4\n",
    "R = 287.05 # [J/kg*K]\n",
    "p1 = .9 # [atm]\n",
    "T1 = 230 # [K]\n",
    "M1 = 2.7\n",
    "\n",
    "#Calculate Reservoir Pressure and Temperature\n",
    "#a\n",
    "\n",
    "p0 = p1*sp(M1, gam)\n",
    "\n",
    "#b\n",
    "T0 = T1*sT(M1, gam)\n",
    "\n",
    "print('1a: %5.3f [atm], 1b: %5.3f [K]'%(p0, T0))"
   ]
  },
  {
   "cell_type": "code",
   "execution_count": 18,
   "id": "5f9c4ffa",
   "metadata": {},
   "outputs": [
    {
     "name": "stdout",
     "output_type": "stream",
     "text": [
      "2a: 1.005 \n"
     ]
    }
   ],
   "source": [
    "# Problem 2:\n",
    "R = 287.05 # [J/kg*K]\n",
    "gam = 1.4\n",
    "T0 = 600 # [K]\n",
    "u = 450 # [m/s]\n",
    "M = math.sqrt(1/(gam*R*T0/u**2 - (gam-1)/2))\n",
    "\n",
    "print('2a: %5.3f '%(M))"
   ]
  },
  {
   "cell_type": "code",
   "execution_count": 19,
   "id": "af8be4dc",
   "metadata": {},
   "outputs": [
    {
     "name": "stdout",
     "output_type": "stream",
     "text": [
      "3a: 19.445, 3b: 4.624, 3c: 4.205, 3d: 0.216, 3e: 0.128, 3f: 1.000 3g: 0.432, 3h: 591.093\n"
     ]
    }
   ],
   "source": [
    "# Problem 3:\n",
    "\n",
    "#a find the presure ratio p2/p1\n",
    "#b find density ratio rho2/rho1\n",
    "#c find the temperature ratio\n",
    "#d find the velocity ratio u2/u1\n",
    "#e find the total pressure ratio p02/p01\n",
    "#g find M2\n",
    "#f find the total temperature ratio T02/T01\n",
    "#h find delta_s\n",
    "\n",
    "pr, dr, tr, ur, p0r, t0r ,M2, ds = normal_shock_ratios(4.1, 1.4)\n",
    "\n",
    "print('3a: %5.3f, 3b: %5.3f, 3c: %5.3f, 3d: %5.3f, 3e: %5.3f, 3f: %5.3f \\\n",
    "3g: %5.3f, 3h: %5.3f'%(pr, dr, tr, ur, p0r, M2 ,t0r, ds))\n"
   ]
  },
  {
   "cell_type": "code",
   "execution_count": 20,
   "id": "4ead19b1",
   "metadata": {},
   "outputs": [
    {
     "name": "stdout",
     "output_type": "stream",
     "text": [
      "4a: 2.900, 4b: 1.765, 4c: 3.2000, 4d: 5.8521, 4e: 1.8505, 4f: 2.6458, 4g: 5.2200\n"
     ]
    },
    {
     "name": "stderr",
     "output_type": "stream",
     "text": [
      "/mnt/bgfs/mbriaz/4855766/ipykernel_451694/376421086.py:14: DeprecationWarning: Conversion of an array with ndim > 0 to a scalar is deprecated, and will error in future. Ensure you extract a single element from your array before performing this operation. (Deprecated NumPy 1.25.)\n",
      "  M2 = math.sqrt(x/y)\n",
      "/mnt/bgfs/mbriaz/4855766/ipykernel_451694/376421086.py:17: DeprecationWarning: Conversion of an array with ndim > 0 to a scalar is deprecated, and will error in future. Ensure you extract a single element from your array before performing this operation. (Deprecated NumPy 1.25.)\n",
      "  ds = cv * math.log(tr) - R * math.log(dr)\n"
     ]
    }
   ],
   "source": [
    "# Problem 4:\n",
    "\n",
    "# My functions index is different than Prof's,\n",
    "# Please use problem 4 solution and question to understand\n",
    "# Proper indexing of variables from outputs of function \n",
    "# normal_shock_ratios()\n",
    "\n",
    "pr = fsolve(lambda M1, pr: pr - normal_shock_ratios(M1,gam)[0], x0 = 1.1, args = (9.645))[0]\n",
    "dr = fsolve(lambda M1, dr: dr - normal_shock_ratios(M1,gam)[1], x0 = 1.1, args = (2.303))[0]\n",
    "tr = fsolve(lambda M1, tr: tr - normal_shock_ratios(M1,gam)[2], x0 = 1.1, args = (2.922))[0]\n",
    "ur = fsolve(lambda M1, ur: 1/ur - normal_shock_ratios(M1,gam)[1], x0 = 1.1, args = (.191))[0]\n",
    "p0r = fsolve(lambda M1, p0r: p0r - normal_shock_ratios(M1,gam)[4], x0 = 1.1, args = (.790))[0]\n",
    "M2 = normal_shock_ratios(.5,gam)[5]\n",
    "ds = fsolve(lambda M1, ds: math.exp(-ds/R) - normal_shock_ratios(M1,gam)[4], x0 = 1.1, args = (847.722))[0]\n",
    "\n",
    "print('4a: %5.3f, 4b: %5.3f, 4c: %5.4f, 4d: %5.4f, 4e: %5.4f, 4f: %5.4f, 4g: %5.4f'\\\n",
    "         %(pr, dr, tr, ur, p0r, M2, ds))\n"
   ]
  },
  {
   "cell_type": "code",
   "execution_count": 21,
   "id": "040516d0",
   "metadata": {},
   "outputs": [
    {
     "name": "stdout",
     "output_type": "stream",
     "text": [
      "5a: 501.719 [K], 5b: 192.241 [kPa]\n"
     ]
    }
   ],
   "source": [
    "# Problem 5:\n",
    "gam = 1.4\n",
    "T02 = 227 #[K]\n",
    "p02 = 24 # [kPa]\n",
    "\n",
    "pr, dr, tr, ur, p0r, t0r ,M2, ds = normal_shock_ratios(2.5, gam)\n",
    "\n",
    "T2 = T02*sT(2.5, gam)/sT(.3, gam)\n",
    "p2 = p02*sp(2.5, gam)*p0r/sp(.3, gam)\n",
    "print('5a: %5.3f [K], 5b: %5.3f [kPa]'%(T2, p2))"
   ]
  },
  {
   "cell_type": "code",
   "execution_count": 22,
   "id": "fc8cbc59",
   "metadata": {},
   "outputs": [
    {
     "name": "stdout",
     "output_type": "stream",
     "text": [
      "6a: 1.387, 6b: 4.224\n"
     ]
    }
   ],
   "source": [
    "# Problem 6:\n",
    "gam = 1.4\n",
    "\n",
    "pr, dr, tr, ur, p0r, t0r ,M2, ds = normal_shock_ratios(1.7, gam)\n",
    "\n",
    "print('6a: %5.3f, 6b: %5.3f'%(sp(.7, gam), p0r*sp(1.7, gam)))"
   ]
  },
  {
   "cell_type": "code",
   "execution_count": 23,
   "id": "3e92b062",
   "metadata": {},
   "outputs": [
    {
     "name": "stdout",
     "output_type": "stream",
     "text": [
      "7. a: 2.330, b: 0.741\n"
     ]
    },
    {
     "name": "stderr",
     "output_type": "stream",
     "text": [
      "/mnt/bgfs/mbriaz/4855766/ipykernel_451694/376421086.py:14: DeprecationWarning: Conversion of an array with ndim > 0 to a scalar is deprecated, and will error in future. Ensure you extract a single element from your array before performing this operation. (Deprecated NumPy 1.25.)\n",
      "  M2 = math.sqrt(x/y)\n",
      "/mnt/bgfs/mbriaz/4855766/ipykernel_451694/376421086.py:17: DeprecationWarning: Conversion of an array with ndim > 0 to a scalar is deprecated, and will error in future. Ensure you extract a single element from your array before performing this operation. (Deprecated NumPy 1.25.)\n",
      "  ds = cv * math.log(tr) - R * math.log(dr)\n"
     ]
    }
   ],
   "source": [
    "# Problem 7:\n",
    "\n",
    "M1a = fsolve(lambda M1, pitotr: pitotr - normal_shock_ratios(M1, gam)[4]*sp(M1, gam), x0 = 1.1, args = (7.472))[0]\n",
    "M1b = fsolve(lambda M1, pitotr: pitotr - sp(M1, gam), x0 = 1.1, args = (1.44))[0]\n",
    "\n",
    "print('7. a: %5.3f, b: %5.3f'%(M1a, M1b))"
   ]
  },
  {
   "cell_type": "markdown",
   "id": "b5488c4b",
   "metadata": {},
   "source": [
    "# Homework 4 Solutions"
   ]
  },
  {
   "cell_type": "code",
   "execution_count": 24,
   "id": "9b22b437",
   "metadata": {},
   "outputs": [],
   "source": [
    "#Functions \n",
    "\n",
    "def tbm(t, b, m): #theta-beta-M relation function\n",
    "    return math.tan(b-t)/math.tan(b) - (2 + .4*(m*math.sin(b))**2)/(2.4*(m*math.sin(b))**2)\n",
    "\n",
    "def th_tbm(m, b): #explicit form of the theta-beta-M relation\n",
    "    th = math.atan((2*(m*math.sin(b))**2 - .2)/ (m**2 * (1.4+math.cos(2*b))+2)/math.tan(b))\n",
    "    return abs(th)\n",
    "\n",
    "def mu(M):\n",
    "    return math.asin(1/M)\n",
    "\n",
    "def m2nrm(m): #returns m2 from m1 across a normal shock, hardcoded with gamma 1.4\n",
    "    return((1 + .2 * m**2)/(1.4 * m**2 - .2)) **.5\n",
    "\n",
    "def ob(m, t, b_init): #M1 theta beta_initialization, hardcoded with gamma 1.4\n",
    "    b = fsolve(lambda b,m,t: tbm(t, *b,m), x0 = b_init, args = (m, t))[0]\n",
    "    mn = m*math.sin(b)\n",
    "    return m2nrm(mn)/math.sin(b-t), 1 + (2.8/2.4) * (mn**2 - 1), b #returns M2, P2/P1 and Beta\n",
    "\n",
    "#Detachment Functions\n",
    "def tbm_derivative_res(b,m):\n",
    "    res = 40 + 8*m**2 * (1 + 5*math.cos(2*b)) + m**4 * (3 + 4*math.cos(2*b) - 7*math.cos(4*b)) #derivative dtheta/dbeta is proportional to res\n",
    "    return res\n",
    "\n",
    "def calc_det_theta(m):\n",
    "    b_det = fsolve(tbm_derivative_res,math.pi/2, args = (m))[0]\n",
    "    return th_tbm(m, b_det)\n",
    "\n",
    "def calc_det_m(th):\n",
    "    m_det = fsolve(lambda m1,th: th - calc_det_theta(*m1), x0 = 1.01, args = (th))[0]\n",
    "    return m_det\n",
    "\n",
    "# def calc_sonic_theta(m):\n",
    "#     key_function = lambda t, m: ob(m, t, mu(m))[0] - 1.0\n",
    "#     t = bisect(key_function, 0, calc_det_theta(m), key=lambda t: key_function(t, m))\n",
    "#     return t\n",
    "\n",
    "def calc_sonic_m(t): #we use bisect because fsolve may not respect constraints\n",
    "    m = bisect(lambda m, t: ob(m,t,mu(m))[0] - 1.0, calc_det_m(t), 100, args = (t))\n",
    "    return m\n",
    "\n",
    "def calc_mach_reflection_theta(M1):\n",
    "    th_detach = fsolve(lambda th, M1: th - calc_det_theta(ob(M1, th, mu(M1))[0]), x0 = calc_det_theta(M1), args = (M1))[0]\n",
    "    return th_detach\n",
    "\n",
    "def calc_uratio(b, t):\n",
    "    return math.cos(b)/math.cos(b-t)\n",
    "\n",
    "def res_type1(phi):\n",
    "    M2, p21, b21 = ob(M1, th2, mu(M1))\n",
    "    M5, p52, b52 = ob(M2, *(th2 - phi), mu(M2))\n",
    "    M3, p31, b31 = ob(M1, th3, mu(M1))\n",
    "    M4, p43, b43 = ob(M3, *(th3 + phi), mu(M3))\n",
    "    return p21*p52 - p31*p43\n",
    "\n",
    "\n",
    "\n",
    "deg = math.pi/180\n",
    "gam = 1.4"
   ]
  },
  {
   "cell_type": "code",
   "execution_count": 25,
   "id": "774f3287",
   "metadata": {},
   "outputs": [
    {
     "name": "stdout",
     "output_type": "stream",
     "text": [
      "1a: 27.909, 1b: 2.561, 1c: 2.451, 1d: 0.930\n",
      "1e: 85.897, 1f: 0.484, 1g: 11.719, 1h: 0.278\n"
     ]
    }
   ],
   "source": [
    "# Problem 1\n",
    "M1 = 3.2\n",
    "gam = 1.4\n",
    "M2, pratio, beta = ob(M1, 12*deg, mu(M1))\n",
    "print('1a: %5.3f, 1b: %5.3f, 1c: %5.3f, 1d: %5.3f'%(beta/deg, M2, pratio, pratio*sp(M2, gam)/sp(M1, gam)))\n",
    "M2, pratio, beta = ob(M1, 12*deg, math.pi/2)\n",
    "print('1e: %5.3f, 1f: %5.3f, 1g: %5.3f, 1h: %5.3f'%(beta/deg, M2, pratio, pratio*sp(M2, gam)/sp(M1, gam)))"
   ]
  },
  {
   "cell_type": "code",
   "execution_count": 26,
   "id": "e6135a3f",
   "metadata": {},
   "outputs": [
    {
     "name": "stdout",
     "output_type": "stream",
     "text": [
      "2a: 8.500, 2b: 19.190\n",
      "2c: 9.682, 2d: 1.882\n",
      "2e: 7.527, 2f: 20.452\n",
      "2g: 3.900, 2h: 23.531\n"
     ]
    }
   ],
   "source": [
    "# Problem 2\n",
    "theta = 8.5*deg\n",
    "beta = 19.19*deg\n",
    "M1 = fsolve(lambda m, t, b: tbm(t, b, *m), x0 = 1/math.sin(beta), args = (theta, beta))[0] #MN1 > 1 => M > 1/sin(beta)\n",
    "print('2a: %5.3f, 2b: %5.3f'%(theta/deg, ob(M1, theta, mu(M1))[2] / deg))\n",
    "\n",
    "M1 = 2.65\n",
    "beta = 30*deg\n",
    "theta = fsolve(lambda t, m, b: tbm(*t, b, m), x0 = 0, args = (M1, beta))[0]\n",
    "print('2c: %5.3f, 2d: %5.3f'%(theta/deg, ob(M1, theta, mu(M1))[1]))\n",
    "\n",
    "M1 = 3.9\n",
    "pratio = 2\n",
    "theta = fsolve(lambda t, m, pratio: ob(m, *t, mu(m))[1] - pratio, x0 = 1e-2, args = (M1, pratio))[0]\n",
    "print('2e: %5.3f, 2f: %5.3f' %(theta/deg, ob(M1, theta, mu(M1))[2]/deg))\n",
    "\n",
    "M2 = 4\n",
    "theta = 11*deg\n",
    "print('2g: %5.3f, 2h: %5.3f'%(M1, ob(M1, theta, mu(M1))[2]/deg))"
   ]
  },
  {
   "cell_type": "code",
   "execution_count": 27,
   "id": "eb73594e",
   "metadata": {},
   "outputs": [],
   "source": [
    "# Problem 3:\n",
    "# Assuming m_d is defined somewhere before this code\n",
    "m_d = 6.3\n",
    "\n",
    "th_d = calc_det_theta(m_d)\n",
    "beta_d = ob(m_d, th_d, mu(m_d))[0]\n",
    "print('3. a: %5.3f, b: %5.3f' % (th_d/deg, beta_d/deg))\n",
    "\n",
    "# th_s = calc_sonic_theta(m_d)\n",
    "# beta_s_detachment = ob(m_d, th_s, mu(m_d))[2]\n",
    "# print('3. e: %5.3f, f: %5.3f' % (m_d, beta_s_detachment/deg))\n",
    "\n",
    "# m_s = calc_sonic_m(10*deg)\n",
    "# beta_s_sonic = ob(m_s, 10*deg, mu(m_s))[2]\n",
    "# print('3. g: %5.3f, h: %5.3f' % (m_s, beta_s_sonic/deg))"
   ]
  },
  {
   "cell_type": "code",
   "execution_count": 28,
   "id": "26dacf5c",
   "metadata": {},
   "outputs": [
    {
     "name": "stdout",
     "output_type": "stream",
     "text": [
      "4a: 1.787, 4b: 4.427, 4c: 26.124\n",
      "4d: 20.729\n"
     ]
    },
    {
     "name": "stderr",
     "output_type": "stream",
     "text": [
      "/mnt/bgfs/mbriaz/4855766/ipykernel_451694/1508605365.py:23: DeprecationWarning: Conversion of an array with ndim > 0 to a scalar is deprecated, and will error in future. Ensure you extract a single element from your array before performing this operation. (Deprecated NumPy 1.25.)\n",
      "  res = 40 + 8*m**2 * (1 + 5*math.cos(2*b)) + m**4 * (3 + 4*math.cos(2*b) - 7*math.cos(4*b)) #derivative dtheta/dbeta is proportional to res\n",
      "/work/classtmp/mnelson/AerE361/lib/python3.10/site-packages/scipy/optimize/_minpack_py.py:177: RuntimeWarning: The iteration is not making good progress, as measured by the \n",
      "  improvement from the last ten iterations.\n",
      "  warnings.warn(msg, RuntimeWarning)\n",
      "/mnt/bgfs/mbriaz/4855766/ipykernel_451694/1508605365.py:4: DeprecationWarning: Conversion of an array with ndim > 0 to a scalar is deprecated, and will error in future. Ensure you extract a single element from your array before performing this operation. (Deprecated NumPy 1.25.)\n",
      "  return math.tan(b-t)/math.tan(b) - (2 + .4*(m*math.sin(b))**2)/(2.4*(m*math.sin(b))**2)\n",
      "/mnt/bgfs/mbriaz/4855766/ipykernel_451694/1508605365.py:19: DeprecationWarning: Conversion of an array with ndim > 0 to a scalar is deprecated, and will error in future. Ensure you extract a single element from your array before performing this operation. (Deprecated NumPy 1.25.)\n",
      "  return m2nrm(mn)/math.sin(b-t), 1 + (2.8/2.4) * (mn**2 - 1), b #returns M2, P2/P1 and Beta\n",
      "/work/classtmp/mnelson/AerE361/lib/python3.10/site-packages/scipy/optimize/_minpack_py.py:177: RuntimeWarning: The iteration is not making good progress, as measured by the \n",
      "  improvement from the last five Jacobian evaluations.\n",
      "  warnings.warn(msg, RuntimeWarning)\n"
     ]
    }
   ],
   "source": [
    "#Problem 4:\n",
    "\n",
    "M1 = 2.8\n",
    "th = 12*deg\n",
    "M2, p21, b21 = ob(M1, th, mu(M1))\n",
    "M3, p32, b32 = ob(M2, th, mu(M2))\n",
    "p31 = p32*p21\n",
    "phi = b32 - theta\n",
    "print('4a: %5.3f, 4b: %5.3f, 4c: %5.3f'%(M3, p31, phi/deg))\n",
    "\n",
    "print('4d: %5.3f'%(calc_mach_reflection_theta(M1)/deg))"
   ]
  },
  {
   "cell_type": "code",
   "execution_count": 29,
   "id": "14fbbe11",
   "metadata": {},
   "outputs": [
    {
     "name": "stdout",
     "output_type": "stream",
     "text": [
      "6a: -3.988, 6b: 2.643, 6c: -0.023\n"
     ]
    }
   ],
   "source": [
    "# Problem 6\n",
    "M1 = 3.5\n",
    "th2 = 4.0*deg\n",
    "th3 = 8.0*deg\n",
    "\n",
    "phi = fsolve(res_type1, x0 = 0)[0]\n",
    "\n",
    "M2, p21, b21 = ob(M1, th2, mu(M1))\n",
    "M5, p52, b52 = ob(M2, (th2 - phi), mu(M2))\n",
    "M3, p31, b31 = ob(M1, th3, mu(M1))\n",
    "M4, p43, b43 = ob(M3, (th3 + phi), mu(M3))\n",
    "\n",
    "u21 = calc_uratio(b21, th2)\n",
    "u52 = calc_uratio(b52, th2 - phi)\n",
    "u51 = u52*u21\n",
    "\n",
    "u31 = calc_uratio(b31, th3)\n",
    "u43 = calc_uratio(b52, th2 - phi)\n",
    "u41 = u43*u31\n",
    "\n",
    "print('6a: %5.3f, 6b: %5.3f, 6c: %5.3f' %(phi/deg, p21*p52, (u41-u51)))"
   ]
  },
  {
   "cell_type": "markdown",
   "id": "e77e34a2",
   "metadata": {},
   "source": [
    "# Homework 5 Solutions"
   ]
  },
  {
   "cell_type": "code",
   "execution_count": 30,
   "id": "c6f69da9",
   "metadata": {},
   "outputs": [],
   "source": [
    "# Functions \n",
    "def pmf(m): # Prandtl Meyer Function\n",
    "    return np.sqrt(6)*math.atan(np.sqrt((m*m-1)/6)) - math.atan(np.sqrt(m*m-1))\n",
    "def pm(m1,th): #m2, p2/p1 \n",
    "    if (m1<1):\n",
    "        print('error: no expansion wave',m1)\n",
    "    nu1 = pmf(m1) \n",
    "    m2 = fsolve(lambda m, nu: nu - pmf(m), x0 = m1+1e-5, args=(nu1+th))[0]\n",
    "    return m2,sp(m1,1.4)/sp(m2,1.4), mu(m1), mu(m2) - th\n",
    "deg = np.pi/180 \n",
    "gam = 1.4 "
   ]
  },
  {
   "cell_type": "code",
   "execution_count": 31,
   "id": "b704ca95",
   "metadata": {},
   "outputs": [
    {
     "name": "stdout",
     "output_type": "stream",
     "text": [
      "1a: 3.976, 1b: 18.210, 1c: 2.566, 1d: 1.000, 2e: 0.336\n"
     ]
    },
    {
     "name": "stderr",
     "output_type": "stream",
     "text": [
      "/mnt/bgfs/mbriaz/4855766/ipykernel_451694/445842921.py:3: DeprecationWarning: Conversion of an array with ndim > 0 to a scalar is deprecated, and will error in future. Ensure you extract a single element from your array before performing this operation. (Deprecated NumPy 1.25.)\n",
      "  return np.sqrt(6)*math.atan(np.sqrt((m*m-1)/6)) - math.atan(np.sqrt(m*m-1))\n"
     ]
    }
   ],
   "source": [
    "# Problem 1: Expansion Wave Downstream Properties\n",
    "M1 = 3.2 \n",
    "M2, pratio, wa1, wa2 = pm(M1,12*deg)\n",
    "print('1a: %5.3f, 1b: %5.3f, 1c: %5.3f, 1d: %5.3f, 2e: %5.3f' %(M2,wa1/deg,wa2/deg,1,pratio))"
   ]
  },
  {
   "cell_type": "code",
   "execution_count": 32,
   "id": "808e7422",
   "metadata": {},
   "outputs": [
    {
     "name": "stdout",
     "output_type": "stream",
     "text": [
      "2a: 5.606, 2b: 12.629\n",
      "2c: 3.550, 2d: 0.212\n"
     ]
    },
    {
     "name": "stderr",
     "output_type": "stream",
     "text": [
      "/mnt/bgfs/mbriaz/4855766/ipykernel_451694/445842921.py:3: DeprecationWarning: Conversion of an array with ndim > 0 to a scalar is deprecated, and will error in future. Ensure you extract a single element from your array before performing this operation. (Deprecated NumPy 1.25.)\n",
      "  return np.sqrt(6)*math.atan(np.sqrt((m*m-1)/6)) - math.atan(np.sqrt(m*m-1))\n"
     ]
    }
   ],
   "source": [
    "# Problem 2: Inverse Problems for Expansion Waves \n",
    "m1 = 2.9\n",
    "p21 = 0.643 \n",
    "th = fsolve(lambda th, p21: pm(m1, th)[1] - p21,x0 = 1e-2,args = (p21))[0] # MN1 >1 +> M>1/sin(Beta)\n",
    "print('2a: %5.3f, 2b: %5.3f' %(th/deg, pm(m1,th)[3]/deg))\n",
    "\n",
    "m2 = 4.734\n",
    "th = 15*deg \n",
    "print('2c: %5.3f, 2d: %5.3f' %(pm(m2,-th)[0],1/pm(m2,-th)[1]))"
   ]
  },
  {
   "cell_type": "code",
   "execution_count": 33,
   "id": "7483c40b",
   "metadata": {},
   "outputs": [
    {
     "name": "stdout",
     "output_type": "stream",
     "text": [
      "3a: 4.089, 3c: 0.889\n",
      "3b: 5.035, 3d: 0.276\n"
     ]
    },
    {
     "name": "stderr",
     "output_type": "stream",
     "text": [
      "/mnt/bgfs/mbriaz/4855766/ipykernel_451694/445842921.py:3: DeprecationWarning: Conversion of an array with ndim > 0 to a scalar is deprecated, and will error in future. Ensure you extract a single element from your array before performing this operation. (Deprecated NumPy 1.25.)\n",
      "  return np.sqrt(6)*math.atan(np.sqrt((m*m-1)/6)) - math.atan(np.sqrt(m*m-1))\n"
     ]
    }
   ],
   "source": [
    "# Problem 3: Pressure and Mach Number\n",
    "M1 = 4\n",
    "# M2, pratio,wa1,wa2 = pm(M1,13*deg)\n",
    "# print(M2,wa1/deg,wa2/deg)\n",
    "# pm(M1,th)[3] gives the rearward angle with respsect to the original angle\n",
    "\n",
    "wa2 = 13*deg \n",
    "th = fsolve(lambda th, M1, wa2: pm(M1, th)[3] - wa2, x0 = 1e-2,args= (M1,wa2))[0]\n",
    "print('3a: %5.3f, 3c: %5.3f' %(pm(M1,th)[0], pm(M1,th)[1]))\n",
    "\n",
    "wa2 = 0*deg \n",
    "th = fsolve(lambda th, M1, wa2: pm(M1, th)[3] - wa2, x0 = 1e-2,args= (M1,wa2))[0]\n",
    "print('3b: %5.3f, 3d: %5.3f' %(pm(M1,th)[0], pm(M1,th)[1]))"
   ]
  },
  {
   "cell_type": "code",
   "execution_count": 34,
   "id": "3b286ba5",
   "metadata": {},
   "outputs": [
    {
     "name": "stdout",
     "output_type": "stream",
     "text": [
      "4: 126.896\n"
     ]
    }
   ],
   "source": [
    "# Problem 4: Maximum Possible Turn Angle\n",
    "# Given M2 and M1 find theta\n",
    "print('4: %5.3f' %((pmf(1e10) - pmf(1.2))/deg))"
   ]
  },
  {
   "cell_type": "code",
   "execution_count": 35,
   "id": "ae22cab7",
   "metadata": {},
   "outputs": [
    {
     "name": "stdout",
     "output_type": "stream",
     "text": [
      "5: 1.100\n"
     ]
    },
    {
     "name": "stderr",
     "output_type": "stream",
     "text": [
      "/mnt/bgfs/mbriaz/4855766/ipykernel_451694/445842921.py:3: DeprecationWarning: Conversion of an array with ndim > 0 to a scalar is deprecated, and will error in future. Ensure you extract a single element from your array before performing this operation. (Deprecated NumPy 1.25.)\n",
      "  return np.sqrt(6)*math.atan(np.sqrt((m*m-1)/6)) - math.atan(np.sqrt(m*m-1))\n"
     ]
    }
   ],
   "source": [
    "# Problem 5: Plate vs Wedge Coefficient \n",
    "m1 = 2 \n",
    "a = 10*deg \n",
    "t = 2.5*deg \n",
    "\n",
    "_,p21,_ = ob(m1,a,mu(m1)) \n",
    "_,p31,_,_ = pm(m1,a)\n",
    "cl_plate = (p21 - p31)*2*np.cos(a)/(1.4*m1**2)\n",
    "\n",
    "_,p21,_ = ob(m1,a+t,mu(m1))\n",
    "_,p31,_,_ = pm(m1,a-t)\n",
    "cl_wedge = (p21*np.cos(a+t) - p31*np.cos(a-t))*2/(1.4*m1**2*np.cos(t))\n",
    "\n",
    "print('5: %5.3f' %(cl_wedge/cl_plate))"
   ]
  },
  {
   "cell_type": "code",
   "execution_count": 36,
   "id": "4cef5a1f",
   "metadata": {},
   "outputs": [
    {
     "name": "stdout",
     "output_type": "stream",
     "text": [
      "6a: 0.177, 6b: 0.026\n"
     ]
    },
    {
     "name": "stderr",
     "output_type": "stream",
     "text": [
      "/mnt/bgfs/mbriaz/4855766/ipykernel_451694/445842921.py:3: DeprecationWarning: Conversion of an array with ndim > 0 to a scalar is deprecated, and will error in future. Ensure you extract a single element from your array before performing this operation. (Deprecated NumPy 1.25.)\n",
      "  return np.sqrt(6)*math.atan(np.sqrt((m*m-1)/6)) - math.atan(np.sqrt(m*m-1))\n"
     ]
    }
   ],
   "source": [
    "# Problem 6: Supersonic Wedge Coefficient \n",
    "\n",
    "m1 = 3\n",
    "a = 7*deg \n",
    "t = 3*deg \n",
    "\n",
    "m2,p21,_ = ob(m1,a+t,mu(m1))\n",
    "_,p42,_,_ = pm(m2,2*t)\n",
    "m3,p31,_,_ = pm(m1,a-t)\n",
    "_,p53,_,_ = pm(m3,2*t) # assuming a>t\n",
    "p41 = p42*p21\n",
    "p51 = p53*p31\n",
    "cl = ((p21-p51)*np.cos(a+t) + (p41-p31)*np.cos(a-t))/(1.4*m1**2*np.cos(t))\n",
    "cd = ((p21-p51)*np.sin(a+t) + (p41-p31)*np.sin(a-t))/(1.4*m1**2*np.cos(t))\n",
    "\n",
    "print('6a: %5.3f, 6b: %5.3f' %(cl,cd))"
   ]
  },
  {
   "cell_type": "code",
   "execution_count": 37,
   "id": "fb807659",
   "metadata": {},
   "outputs": [
    {
     "name": "stdout",
     "output_type": "stream",
     "text": [
      "7a: 8.013\n",
      "7b: 1.951\n"
     ]
    },
    {
     "name": "stderr",
     "output_type": "stream",
     "text": [
      "/mnt/bgfs/mbriaz/4855766/ipykernel_451694/445842921.py:3: DeprecationWarning: Conversion of an array with ndim > 0 to a scalar is deprecated, and will error in future. Ensure you extract a single element from your array before performing this operation. (Deprecated NumPy 1.25.)\n",
      "  return np.sqrt(6)*math.atan(np.sqrt((m*m-1)/6)) - math.atan(np.sqrt(m*m-1))\n"
     ]
    }
   ],
   "source": [
    "# Problem 7: Tupe VI shock-shock interaction with a reflected expansion wave \n",
    "\n",
    "M1 = 3.5 \n",
    "th2 = 4.0*deg \n",
    "th3 = 8.0*deg \n",
    "\n",
    "def res_type(phi): \n",
    "    M5,p51,b51 = ob(M1, *phi,mu(M1))\n",
    "    M2, p21,b21 = ob(M1,th2,mu(M1))\n",
    "    M3,p32,b32 = ob(M2,th3-th2,mu(M2))\n",
    "    M4,p43,_,_ = pm(M3,*phi-th3)\n",
    "    return p51 - p21*p32*p43\n",
    "\n",
    "phi = fsolve(res_type,x0 = 0)[0]\n",
    "M5,p51,b51 = ob(M1,phi,mu(M1))\n",
    "M2,p21,b21 = ob(M1,th2,mu(M1))\n",
    "M3,p32,b32 = ob(M2,th3-th2,mu(M2))\n",
    "M4,p43,_,_ = pm(M3,phi-th3)\n",
    "\n",
    "print('7a: %5.3f' %(phi/deg))\n",
    "print('7b: %5.3f' %(p51))"
   ]
  },
  {
   "cell_type": "code",
   "execution_count": 38,
   "id": "53e06c8d",
   "metadata": {},
   "outputs": [
    {
     "name": "stdout",
     "output_type": "stream",
     "text": [
      "8a: 0.028\n",
      "8b: 0.00120\n"
     ]
    },
    {
     "name": "stderr",
     "output_type": "stream",
     "text": [
      "/mnt/bgfs/mbriaz/4855766/ipykernel_451694/445842921.py:3: DeprecationWarning: Conversion of an array with ndim > 0 to a scalar is deprecated, and will error in future. Ensure you extract a single element from your array before performing this operation. (Deprecated NumPy 1.25.)\n",
      "  return np.sqrt(6)*math.atan(np.sqrt((m*m-1)/6)) - math.atan(np.sqrt(m*m-1))\n",
      "/mnt/bgfs/mbriaz/4855766/ipykernel_451694/1508605365.py:4: DeprecationWarning: Conversion of an array with ndim > 0 to a scalar is deprecated, and will error in future. Ensure you extract a single element from your array before performing this operation. (Deprecated NumPy 1.25.)\n",
      "  return math.tan(b-t)/math.tan(b) - (2 + .4*(m*math.sin(b))**2)/(2.4*(m*math.sin(b))**2)\n",
      "/mnt/bgfs/mbriaz/4855766/ipykernel_451694/1508605365.py:19: DeprecationWarning: Conversion of an array with ndim > 0 to a scalar is deprecated, and will error in future. Ensure you extract a single element from your array before performing this operation. (Deprecated NumPy 1.25.)\n",
      "  return m2nrm(mn)/math.sin(b-t), 1 + (2.8/2.4) * (mn**2 - 1), b #returns M2, P2/P1 and Beta\n"
     ]
    }
   ],
   "source": [
    "# Problem 8: Plate trailing edge \n",
    "\n",
    "m1 = 2 \n",
    "a = 10*deg \n",
    "\n",
    "def res_trailing(phi):\n",
    "    m2,p21,_ = ob(m1,a,mu(m1)); m4,p42,_,_ = pm(m2,phi+a)\n",
    "    m3,p31,_,_ = pm(m1,a); m5,p53,_ = ob(m3,phi+a, mu(m3))\n",
    "    return p21*p42 - p31*p53\n",
    "\n",
    "phi = fsolve(res_trailing,x0 = 0)[0]\n",
    "print('8a: %5.3f' %(phi/deg))\n",
    "\n",
    "m2,p21,b21 = ob(m1,a,mu(m1)); m4,p42,_,_ = pm(m2,phi+a) \n",
    "m3,p31,_,_ = pm(m1,a); m5,p53,_ = ob(m3,phi+a, mu(m3))\n",
    "    \n",
    "u41 = (m4/m1)*np.sqrt(sT(m1,1.4)/sT(m4,1.4))\n",
    "u51 = (m5/m1)*np.sqrt(sT(m1,1.4)/sT(m5,1.4))\n",
    "\n",
    "print('8b: %5.5f' %(u41-u51))"
   ]
  },
  {
   "cell_type": "markdown",
   "id": "d730ff49",
   "metadata": {},
   "source": [
    "# Homework 6 Solutions"
   ]
  },
  {
   "cell_type": "code",
   "execution_count": 39,
   "id": "49ac5299",
   "metadata": {},
   "outputs": [],
   "source": [
    "# Functions:\n",
    "# Math\n",
    "def ln(x):\n",
    "    return m.log(x, m.e)\n",
    "\n",
    "def mu(Mach):\n",
    "    return np.arcsin(1 / Mach)\n",
    "\n",
    "\n",
    "# Isentropic relations?\n",
    "def sT(Mach):\n",
    "    return 1 + ((gamma - 1) / 2) * Mach**2\n",
    "\n",
    "def sP(Mach):\n",
    "    return sT(Mach)**(gamma / (gamma - 1))\n",
    "\n",
    "def sRho(Mach):\n",
    "    return sT(Mach)**(1 / (gamma - 1))\n",
    "\n",
    "\n",
    "# Normal shock function\n",
    "def findM_2(M_1):\n",
    "    M_2 = np.sqrt((1 + ((gamma - 1) / 2) * (M_1**2)) / (gamma * (M_1**2) - ((gamma - 1) / 2)))\n",
    "    return M_2\n",
    "\n",
    "def normal(M_1):\n",
    "    M_2 = findM_2(M_1)\n",
    "    P_2_1 = (1 + gamma * M_1**2) / (1 + gamma * M_2**2)\n",
    "    rho_2_1 = ((gamma + 1) * M_1**2) / (2 + (gamma - 1) * M_1**2)\n",
    "    u_2_1 = 1 / rho_2_1\n",
    "    T_2_1 = sT(M_1) / sT(M_2)\n",
    "    P_02_01 = P_2_1 * sP(M_2) / sP(M_1)\n",
    "    return M_2, P_2_1, rho_2_1, u_2_1, T_2_1, P_02_01\n",
    "\n",
    "# Oblique Shock Functions\n",
    "def oblique_shock_residual(Beta, Mach, theta):\n",
    "    mach_normal = Mach * np.sin(Beta)\n",
    "    return np.tan(Beta - theta) / np.tan(Beta) - (2 + (gamma - 1) * mach_normal**2) / ((gamma + 1) * mach_normal**2)\n",
    "\n",
    "def tbm(theta, beta, M1):\n",
    "    return np.tan(beta-theta)/np.tan(beta) - (2 + (gamma-1)*(M1*np.sin(beta))**2)/((gamma+1)*(M1*np.sin(beta))**2)\n",
    "\n",
    "def oblique(M_1, theta, beta_init):\n",
    "    beta = opt.fsolve(lambda beta, M1, theta: tbm(theta, beta, M1), x0 = beta_init, args = (M_1, theta))[0]\n",
    "    M_1n = M_1 * np.sin(beta)\n",
    "    M_2n = findM_2(M_1n)\n",
    "    M_2 = M_2n / np.sin(beta - theta)\n",
    "    P_2_1 = 1 + ((2*gamma)/(gamma+1))*(M_1n**2 -1)\n",
    "    T_2_1 = sT(M_1) / sT(M_2)\n",
    "    return M_2, P_2_1, T_2_1, beta\n",
    "\n",
    "def get_beta_oblique_shock(Mach_1,theta):\n",
    "    init_weak = theta + 1e-2\n",
    "    init_strong = np.pi/2\n",
    "    beta_weak = opt.fsolve(oblique_shock_residual, x0 = init_weak, args=(Mach_1, theta));\n",
    "    beta_strong = opt.fsolve(oblique_shock_residual, x0 = init_strong, args=(Mach_1, theta));\n",
    "    return beta_weak, beta_strong\n",
    "\n",
    "def find_theta(Mach, beta):\n",
    "    theta = np.arctan((2 * (Mach * np.sin(beta))**2 - 2) / (Mach**2 * (gamma + np.cos(2 * beta)) + 2) / np.tan(beta))\n",
    "    return abs(theta)\n",
    "\n",
    "\n",
    "# PM Expansion functions\n",
    "def nu(Mach):\n",
    "    nu = np.sqrt((gamma + 1) / (gamma - 1)) * np.arctan(np.sqrt(((gamma - 1) / (gamma + 1)) * (Mach**2 - 1))) - np.arctan(np.sqrt(Mach**2 - 1))\n",
    "    return nu\n",
    "\n",
    "def PM_residual(M_1, M_2, theta):\n",
    "    return nu(M_2) - nu(M_1) - theta\n",
    "\n",
    "def PM_residual_isentropic(M_1, M_2, theta):\n",
    "    return nu(M_2) - nu(M_1) + theta\n",
    "\n",
    "def PM_M_2(M_1, theta):\n",
    "    M_2 = opt.fsolve(lambda M_2, M_1, theta: PM_residual(M_1, M_2, theta), x0 = M_1, args = (M_1, theta))[0]\n",
    "    return M_2\n",
    "\n",
    "def PM_M_1(M_2, theta):\n",
    "    M_1 = opt.fsolve(lambda M_1, M_2, theta: PM_residual(M_1, M_2, theta), x0 = M_2, args = (M_2, theta))[0]\n",
    "    return M_1\n",
    "\n",
    "def PM_theta(M_1, M_2):\n",
    "    theta = opt.fsolve(lambda theta, M_1, M_2: PM_residual(M_1, M_2, theta), x0 = 0, args = (M_1, M_2))[0]\n",
    "    return theta\n",
    "\n",
    "def PM_ratios(M_1, theta):\n",
    "    M_2 = PM_M_2(M_1, theta)\n",
    "    P_2_1 = sP(M_1) / sP(M_2)\n",
    "    T_2_1 = sT(M_1) / sT(M_2)\n",
    "    mu_1 = mu(M_1)\n",
    "    mu_2 = mu(M_2)\n",
    "    nu_2 = mu(M_2) - theta\n",
    "    P_02_01 = P_2_1 * (sP(M_2) / sP(M_1))\n",
    "    return P_2_1, T_2_1, mu_1, mu_2, nu_2, P_02_01\n",
    "\n",
    "\n",
    "# Nozzle and duct flow functions\n",
    "def f1(M):\n",
    "    Ar = M * (((sT(1)) / (sT(M)))**((1 /2) * ((gamma + 1) / (gamma - 1))))\n",
    "    return Ar\n",
    "\n",
    "def Aratio(M_1, M_2):\n",
    "    A_2_1 = f1(M_1) / f1(M_2)\n",
    "    return A_2_1\n",
    "\n",
    "def f1i(M, Arat):\n",
    "    try:\n",
    "        M_sub = opt.bisect(lambda M_2, M_1: Aratio(M_1, M_2) - Arat, 0 + .0001, 1, args = M)\n",
    "    except ValueError as e:\n",
    "        # print(f\"Error in f1i subsonic using M: {M} and Arat: {Arat}\\nError:\\n{e}\")\n",
    "        # print(\"f1i sub error\")\n",
    "        try:\n",
    "            M_sub = opt.bisect(lambda M_2, M_1: (1 / Aratio(M_1, M_2)) - Arat, 0 + .0001, 1, args = M)\n",
    "        except ValueError as e:\n",
    "            # print(f\"Error in f1i subsonic inverse using M: {M} and Arat: {Arat}\\nError:\\n{e}\")\n",
    "            # print(\"f1i sub inverse error\")\n",
    "            M_sub = -1\n",
    "\n",
    "    try:\n",
    "        M_sup = opt.bisect(lambda M_2, M_1: Aratio(M_1, M_2) - Arat, 1, 9999999, args = M)\n",
    "    except ValueError as e:\n",
    "        # print(f\"Error in f1i supersonic using M: {M} and Arat: {Arat}\\nError:\\n{e}\")\n",
    "        # print(\"f1i super error\")\n",
    "        try:\n",
    "            M_sup = opt.bisect(lambda M_2, M_1: (1 / Aratio(M_1, M_2)) - Arat, 1, 9999999, args = M)\n",
    "        except ValueError as e:\n",
    "            # print(f\"Error in f1i supersonic inverse using M: {M} and Arat: {Arat}\\nError:\\n{e}\")\n",
    "            # print(\"f1i super inverse error\")\n",
    "            M_sup = -1\n",
    "\n",
    "    return [M_sub, M_sup]\n",
    "\n",
    "def f2(sp):\n",
    "    Ar = (((2 / (gamma - 1)) * (sp**((gamma - 1) / gamma) - 1))**(1 / 2)) * ((sP(1) / sp)**(((gamma + 1) / (2 * gamma))))\n",
    "    return Ar\n",
    "\n",
    "def PAratio(M_1, M_2):\n",
    "    A_2_1 = f2(sP(M_1)) / f2(sP(M_2))\n",
    "    return A_2_1\n",
    "\n",
    "def f2i(Arat):\n",
    "    try:\n",
    "        M_sub = opt.bisect(lambda M: f2(sP(M)) - Arat, 0, 1)\n",
    "    except ValueError as e:\n",
    "        # print(f\"Error in f2i subsonic using Arat: {Arat}\\nError:\\n{e}\")\n",
    "        # print(\"f2i sub error\")\n",
    "        M_sub = -1\n",
    "\n",
    "    try:\n",
    "        M_sup = opt.bisect(lambda M: f2(sP(M)) - Arat, 1, 9999999)\n",
    "    except ValueError as e:\n",
    "        # print(f\"Error in f2i supersonic using Arat: {Arat}\\nError:\\n{e}\")\n",
    "        # print(\"f2i sup error\")\n",
    "        M_sup = -1\n",
    "\n",
    "    return [M_sub, M_sup]\n",
    "\n",
    "R = 287.05 # J/kgK\n",
    "gamma = 1.4\n",
    "\n",
    "Cv = R / (gamma - 1) # 717.625 J/kgK\n",
    "Cp = (gamma * R) / (gamma - 1) # 1004.675 J/kgK\n"
   ]
  },
  {
   "cell_type": "code",
   "execution_count": 40,
   "id": "306e6874",
   "metadata": {},
   "outputs": [
    {
     "name": "stdout",
     "output_type": "stream",
     "text": [
      "\n",
      "1a: A_2_1 = 0.5101703710490861\n",
      "\n",
      "1b: A_2_1 = 3.6003116158924104\n"
     ]
    }
   ],
   "source": [
    "# Problem 1: \n",
    "def Q1():\n",
    "    M_1 = .3 # Mach\n",
    "    M_2 = .8 # Mach\n",
    "\n",
    "    A_2_1 = Aratio(M_1, M_2)\n",
    "    print(f\"\\n1a: A_2_1 = {A_2_1}\")\n",
    "\n",
    "    M_1 = 1.5 # Mach\n",
    "    M_2 = 3 # Mach\n",
    "\n",
    "    A_2_1 = Aratio(M_1, M_2)\n",
    "    print(f\"\\n1b: A_2_1 = {A_2_1}\")\n",
    "Q1()\n",
    "    "
   ]
  },
  {
   "cell_type": "code",
   "execution_count": 41,
   "id": "4d4473e0",
   "metadata": {},
   "outputs": [
    {
     "name": "stdout",
     "output_type": "stream",
     "text": [
      "\n",
      "2a: M_2 = 2.808487887534689 Mach\n",
      "\n",
      "2b: M_2 = 0.19563094342819398 Mach\n"
     ]
    }
   ],
   "source": [
    "# Problem 2: \n",
    "def Q2():\n",
    "    A_2_1 = 3\n",
    "    M_1 = 1.5 # Mach\n",
    "\n",
    "    M_2 = f1i(M_1, A_2_1)[1]\n",
    "    print(f\"\\n2a: M_2 = {M_2} Mach\")\n",
    "\n",
    "    M_1 = .9 # Mach\n",
    "\n",
    "    M_2 = f1i(M_1, A_2_1)[0]\n",
    "    print(f\"\\n2b: M_2 = {M_2} Mach\")\n",
    "Q2()"
   ]
  },
  {
   "cell_type": "code",
   "execution_count": 42,
   "id": "08e1aea5",
   "metadata": {},
   "outputs": [
    {
     "name": "stdout",
     "output_type": "stream",
     "text": [
      "\n",
      "2a: M_e = 2.6374158493101754 Mach\n",
      "\n",
      "2b: P_e = 0.4729869168299775 Bar\n",
      "\n",
      "2c: M_t = 1 Mach\n",
      "2d: P_t = 5.282817877171742 Bar\n"
     ]
    }
   ],
   "source": [
    "# Problem 3: \n",
    "def Q3():\n",
    "    A_t_e = 1 / 3\n",
    "    P_0 = 10 * 100000 # Bar -> Pa\n",
    "\n",
    "    M_t = 1\n",
    "    M_e = f1i(M_t, A_t_e)[1]\n",
    "    print(f\"\\n2a: M_e = {M_e} Mach\")\n",
    "\n",
    "    P_e = P_0 / sP(M_e) # Pa\n",
    "    print(f\"\\n2b: P_e = {P_e / 100000} Bar\")\n",
    "    \n",
    "    print(f\"\\n2c: M_t = {M_t} Mach\")\n",
    "\n",
    "    P_t = P_0 / sP(M_t) # Pa\n",
    "    print(f\"2d: P_t = {P_t / 100000} Bar\")\n",
    "    \n",
    "Q3()"
   ]
  },
  {
   "cell_type": "code",
   "execution_count": 43,
   "id": "dd29baba",
   "metadata": {},
   "outputs": [
    {
     "name": "stdout",
     "output_type": "stream",
     "text": [
      "\n",
      "4a: A_11s = 0.4913484765887683 m^2\n",
      "\n",
      "4b: A_21s = 0.42510998079552664 m^2\n",
      "\n",
      "4c: A_12s = 0.4913506695550788 m^2\n",
      "\n",
      "4d: A_22s = 0.4251096210187762 m^2\n",
      "\n",
      "4e: P_101 = 0.13970692992156072 Bar\n",
      "\n",
      "4f: P_201 = 0.31613023989427114 Bar\n",
      "\n",
      "4g: P_102 = 0.13970630639012085 Bar\n",
      "\n",
      "4h: P_202 = 0.3161305074401106 Bar\n"
     ]
    }
   ],
   "source": [
    "# Problem 4: \n",
    "def Q4():\n",
    "    A_1 = .5 # m^2\n",
    "    A_2 = 1 # m^2\n",
    "    \n",
    "    T_11 = 300 # K\n",
    "    T_21 = 300 # K\n",
    "    rho_11 = .1 # kg/m^3\n",
    "    rho_21 = .1 # kg/m^3\n",
    "\n",
    "    u_11 = 298.95 # m/s\n",
    "    u_12 = 110.621 # m/s\n",
    "\n",
    "    u_21 = 520.828 # m/s\n",
    "    u_22 = 680.936 # m/s\n",
    "    \n",
    "    T_12 = T_11 + (u_11**2 - u_12**2) / (2 * Cp)\n",
    "    T_22 = T_21 + (u_21**2 - u_22**2) / (2 * Cp)\n",
    "    #print(f\"T_21 = {T_12} K\")\n",
    "    #print(f\"T_22 = {T_22} K\")\n",
    "\n",
    "    a_11 = np.sqrt(gamma * R * T_11)\n",
    "    #print(f\"a: {a_11} m/s\")\n",
    "    a_12 = np.sqrt(gamma * R * T_12)\n",
    "    #print(f\"a: {a_12} m/s\")\n",
    "\n",
    "    a_21 = np.sqrt(gamma * R * T_21)\n",
    "    #print(f\"a: {a_21} m/s\")\n",
    "    a_22 = np.sqrt(gamma * R * T_22)\n",
    "    #print(f\"a: {a_22} m/s\")\n",
    "\n",
    "    M_11 = u_11 / a_11 # Mach\n",
    "    M_12 = u_12 / a_12 # Mach\n",
    "    \n",
    "    M_21 = u_21 / a_21 # Mach\n",
    "    M_22 = u_22 / a_22 # Mach\n",
    "\n",
    "    #print(f\"M_11: {M_11} Mach\")\n",
    "    #print(f\"M_12: {M_12} Mach\")\n",
    "    \n",
    "    #print(f\"M_21: {M_21} Mach\")\n",
    "    #print(f\"M_22: {M_22} Mach\")\n",
    "\n",
    "    A_11s = f2(sP(M_11)) * A_1 # m^2\n",
    "    A_21s = f2(sP(M_21)) * A_1 # m^2\n",
    "    print(f\"\\n4a: A_11s = {A_11s} m^2\")\n",
    "    print(f\"\\n4b: A_21s = {A_21s} m^2\")\n",
    "    \n",
    "    A_12s = f2(sP(M_12)) * A_2 # m^2\n",
    "    A_22s = f2(sP(M_22)) * A_2 # m^2\n",
    "    print(f\"\\n4c: A_12s = {A_12s} m^2\")\n",
    "    print(f\"\\n4d: A_22s = {A_22s} m^2\")\n",
    "\n",
    "    # rho_12 = rho_11 * u_12 * A_2 / (u_12 * A_2)\n",
    "    rho_12 = (rho_11 * u_11 * A_1) / (u_12 * A_2)\n",
    "    #print(f\"rho_12 = {rho_12} kg/m^3\")\n",
    "    rho_22 = (rho_21 * u_21 * A_1) / (u_22 * A_2)\n",
    "    #print(f\"rho_22 = {rho_22} kg/m^3\")\n",
    "\n",
    "    P_11 = rho_11 * R * T_11 # Pa\n",
    "    #print(f\"P_11 = {P_11} Pa\")\n",
    "    P_21 = rho_21 * R * T_21 # Pa\n",
    "    #print(f\"P_21 = {P_21} Pa\")\n",
    "    \n",
    "    P_101 = sP(M_11) * P_11\n",
    "    print(f\"\\n4e: P_101 = {P_101 / 100000} Bar\")\n",
    "    P_201 = sP(M_21) * P_21\n",
    "    print(f\"\\n4f: P_201 = {P_201 / 100000} Bar\")\n",
    "\n",
    "    P_12 = rho_12 * R * T_12 # Pa\n",
    "    #print(f\"P_12 = {P_12} Pa\")\n",
    "    P_22 = rho_22 * R * T_22 # Pa\n",
    "    #print(f\"P_22 = {P_22} Pa\")\n",
    "\n",
    "    P_102 = sP(M_12) * P_12\n",
    "    print(f\"\\n4g: P_102 = {P_102 / 100000} Bar\")\n",
    "    P_202 = sP(M_22) * P_22\n",
    "    print(f\"\\n4h: P_202 = {P_202 / 100000} Bar\")\n",
    "\n",
    "Q4()\n"
   ]
  },
  {
   "cell_type": "code",
   "execution_count": 44,
   "id": "8fe55ec9",
   "metadata": {},
   "outputs": [
    {
     "name": "stdout",
     "output_type": "stream",
     "text": [
      "[0.11668889]\n",
      "a) pres/pb =  [1.0095639]\n",
      "b) Me1 =  [0.11668889]\n",
      "Use me in Virg Tech Me2 =  [3.17478015]\n",
      "c) pres/pb [4.10920059]\n",
      "d) Me2 =  0.46561464\n",
      "e) pres/pb [47.63563576]\n",
      "f) Me3 =  [3.17478015]\n"
     ]
    }
   ],
   "source": [
    "from scipy.optimize import fsolve\n",
    "\n",
    "def sT(M):\n",
    "    return 1 + (gamma-1)/2*M**2\n",
    "def sp(M):\n",
    "    return sT(M)**(gamma/(gamma-1))\n",
    "\n",
    "def area_ratio(M):\n",
    "    return ( 1/M**2*((2/(gamma+1))*(1+(gamma-1)*M**2/(2)))**((gamma+1)/(gamma-1))      )**-0.5\n",
    "    \"may need to flip this boi^^^\"\n",
    "def solve2(M):\n",
    "    return Ate - (area_ratio(M))\n",
    "\n",
    "gamma = 1.4\n",
    "bar = 100000\n",
    "pres = 6*bar\n",
    "Tres = 600\n",
    "Ate = 1/5\n",
    " \n",
    "\"Cr1\"\n",
    "def solve5(M):\n",
    "    return Ate - (area_ratio(M))\n",
    " \n",
    "Me1  = fsolve(solve5,.5)\n",
    "print(Me1)\n",
    "pt = pres*.528\n",
    " \n",
    " \n",
    "print('a) pres/pb = ',sp(Me1))\n",
    "print(\"b) Me1 = \",Me1)\n",
    " \n",
    "\"Cr2\"\n",
    "Me2 = fsolve(solve5,1.5)\n",
    "print(\"Use me in Virg Tech Me2 = \",Me2)\n",
    "pbe = 11.5924338\n",
    "M2312 =  0.46561464\n",
    "\"found vag tech\"\n",
    "presb = sp(Me2)/pbe\n",
    "print('c) pres/pb',presb)\n",
    "print('d) Me2 = ',M2312)\n",
    " \n",
    " \n",
    "\"cr3\"\n",
    "Me3 = fsolve(solve5,1.5)\n",
    " \n",
    "print(\"e) pres/pb\",sp(Me3))\n",
    "print(\"f) Me3 = \",Me3)"
   ]
  },
  {
   "cell_type": "code",
   "execution_count": 45,
   "id": "74307635",
   "metadata": {},
   "outputs": [
    {
     "name": "stdout",
     "output_type": "stream",
     "text": [
      "\n",
      "6a: beta = 45.406052159712786 °\n"
     ]
    }
   ],
   "source": [
    "def Q6():\n",
    "    A_t_e = 1 / 5\n",
    "    P_res = 6 * 100000 # Bar -> Pa\n",
    "    T_res = 600 # K\n",
    "\n",
    "    M_t = 1 # Mach\n",
    "\n",
    "    M_e_3 = f1i(M_t, A_t_e)[1]\n",
    "    #print(f\"M_e_3 = {M_e_3} Mach\")\n",
    "\n",
    "    sP_e_2 = sP(M_e_3)\n",
    "    #print(f\"sP_e_2 = {sP_e_2}\")\n",
    "\n",
    "    _, P_b_e, _, _, _, _ = normal(M_e_3)\n",
    "    #print(f\"P_b_e = {P_b_e}\")\n",
    "\n",
    "    P_res_b_2 = sP_e_2 / P_b_e\n",
    "    #print(f\"P_res_b_2 = {P_res_b_2}\")\n",
    "\n",
    "    P_res_b = 2 * P_res_b_2\n",
    "    #print(f\"P_res_b = {P_res_b}\")\n",
    "\n",
    "    M_1 = opt.fsolve(lambda M: f2(sP(M)) - A_t_e, x0 = 1)[0]\n",
    "    #print(f\"M_1 = {M_1} Mach\")\n",
    "\n",
    "    P_0_1 = sP(M_1)\n",
    "    #print(f\"P_0_1 = {P_0_1}\")\n",
    "\n",
    "    theta = opt.fsolve(lambda theta: P_res_b - P_0_1 / oblique(M_1, theta, mu(M_1))[1], x0 = .1)[0] # radians\n",
    "    #print(f\"theta = {np.degrees(theta)} °\")\n",
    "\n",
    "    _, _, _, beta = oblique(M_1, theta, mu(M_1))\n",
    "    print(f\"\\n6a: beta = {np.degrees(beta)} °\")\n",
    "Q6()"
   ]
  },
  {
   "cell_type": "code",
   "execution_count": 46,
   "id": "60e4508f",
   "metadata": {},
   "outputs": [
    {
     "name": "stdout",
     "output_type": "stream",
     "text": [
      "\n",
      "7a: a_nu = 13.134960076143638 °\n"
     ]
    }
   ],
   "source": [
    "# Problem 7: \n",
    "def Q7():\n",
    "    A_t_e = 1 / 5\n",
    "    P_res = 6 * 100000 # Bar -> Pa\n",
    "    T_res = 600 # K\n",
    "\n",
    "    M_t = 1 # Mach\n",
    "\n",
    "    M_e_3 = f1i(M_t, A_t_e)[1]\n",
    "    #print(f\"M_e_3 = {M_e_3} Mach\")\n",
    "\n",
    "    P_res_b_3 = sP(M_e_3) # Also P_res_b = A_t_e * (sP(M_e_3) / f2(sP(M_e_3)))\n",
    "    #print(f\"P_res_b_3 = {P_res_b_3}\")\n",
    "\n",
    "    P_res_b = 2 * P_res_b_3\n",
    "\n",
    "    M_1 = opt.fsolve(lambda M: f2(sP(M)) - A_t_e, x0 = 1)[0]\n",
    "    #print(f\"M_1 = {M_1} Mach\")\n",
    "\n",
    "    P_0_1 = sP(M_1)\n",
    "    #print(f\"P_0_1 = {P_0_1}\")\n",
    "\n",
    "    # theta = opt.fsolve(lambda theta: P_res_b - P_0_1 / oblique(M_1, theta, mu(M_1))[1], x0 = .1)[0] # radians\n",
    "    theta = opt.fsolve(lambda theta: P_res_b - P_0_1 / PM_ratios(M_1, theta)[0], x0 = .1)[0] # radians\n",
    "    #print(f\"theta = {np.degrees(theta)} °\")\n",
    "\n",
    "    nu_1 = mu(M_1)\n",
    "    #print(f\"nu_1 = {np.degrees(nu_1)} °\")\n",
    "\n",
    "    nu_2 = PM_ratios(M_1, theta)[4]\n",
    "    #print(f\"nu_2 = {np.degrees(nu_2)} °\")\n",
    "\n",
    "    a_nu = (nu_1 + nu_2) / 2\n",
    "    print(f\"\\n7a: a_nu = {np.degrees(a_nu)} °\")\n",
    "\n",
    "Q7()"
   ]
  },
  {
   "cell_type": "code",
   "execution_count": 47,
   "id": "f34f4361",
   "metadata": {},
   "outputs": [
    {
     "name": "stdout",
     "output_type": "stream",
     "text": [
      "\n",
      "8a: m_dot_1 = 72.0942184936723 kg/s\n",
      "\n",
      "8b: m_dot_2 = 98.99588199091478 kg/s\n"
     ]
    }
   ],
   "source": [
    "# Problem 8: \n",
    "def Q8():\n",
    "    A_t_e = 1 / 5\n",
    "    P_res = 6 * 100000 # Bar -> Pa\n",
    "    T_res = 600 # K\n",
    "    A_t = .1 # m^2\n",
    "    A_e = A_t / A_t_e # m^2\n",
    "\n",
    "    P_b_1 = 5.97 * 100000 # Bar -> Pa\n",
    "    P_b_2 = 5.87 * 100000 # Bar -> Pa\n",
    "\n",
    "    M_e_1 = opt.bisect(lambda M: f2(sP(M)) - A_t_e, 0, 1) # Mach\n",
    "    #print(f\"M_e_1 = {M_e_1} Mach\")\n",
    "\n",
    "    P_b_choked = sP(M_e_1)\n",
    "    #print(f\"P_b_choked = {P_b_choked}\")\n",
    "\n",
    "    P_b = P_res / P_b_choked # Pa\n",
    "    #print(f\"P_b = {P_b} Pa\")\n",
    "\n",
    "    # pb_a > pb_choked --> the flow is not choked, so no shock\n",
    "    # pb_b < pb_choked --> the flow is choked, shock somewhere in nozzle (A* = At)\n",
    "\n",
    "    # exit mach for unchoked flow\n",
    "    M_e_1 = opt.fsolve(lambda M_e, P_res, P_b: P_res / P_b - sP(M_e), x0 = .9, args = (P_res, P_b_1))[0]\n",
    "    #print(f\"M_e_1 = {M_e_1} Mach\")\n",
    "\n",
    "    A_s_1 = f2(sP(M_e_1)) * A_e\n",
    "    #print(f\"A_s_1 = {A_s_1}\")\n",
    "\n",
    "    A_s_t_1 = A_s_1 / A_t # flow never reaches M = 1 at the throat, so must calculate the A*/At\n",
    "    A_s_t_2 = 1 # A* = At because flow is between cr1 and cr2\n",
    "    #print(f\"A_s_t_1 = {A_s_t_1}\")\n",
    "    #print(f\"A_s_t_2 = {A_s_t_2}\")\n",
    "    \n",
    "    m_dot_1 = ((P_res) * A_t * np.sqrt(gamma)) / (np.sqrt(R * T_res)) * sT(1)**((-(gamma + 1)) / (2 * (gamma - 1))) * A_s_t_1 \n",
    "    m_dot_2 = ((P_res) * A_t * np.sqrt(gamma)) / (np.sqrt(R * T_res)) * sT(1)**((-(gamma + 1)) / (2 * (gamma - 1))) * A_s_t_2\n",
    "    print(f\"\\n8a: m_dot_1 = {m_dot_1} kg/s\")\n",
    "    print(f\"\\n8b: m_dot_2 = {m_dot_2} kg/s\")\n",
    "Q8()\n"
   ]
  },
  {
   "cell_type": "code",
   "execution_count": 48,
   "id": "4f800521",
   "metadata": {},
   "outputs": [
    {
     "name": "stdout",
     "output_type": "stream",
     "text": [
      "\n",
      "9b: x_xe = 0.4818276395180874\n",
      "\n"
     ]
    }
   ],
   "source": [
    "def Q9():\n",
    "    A_t_e = 1 / 5\n",
    "    P_res = 6 * 100000 # Bar -> Pa\n",
    "    T_res = 600 # K\n",
    "\n",
    "    M_t = 1 # Mach\n",
    "\n",
    "    r_t_e = np.sqrt(A_t_e)\n",
    "    r_c_e = r_t_e + .3 * (1 - r_t_e)\n",
    "    r_t_c = r_t_e / r_c_e\n",
    "    A_t_c = r_t_c**2\n",
    "    #print(f\"A_t_c = {A_t_c}\")\n",
    "\n",
    "    M_1u = f2i(A_t_c)[1]\n",
    "    #print(f\"M_1u = {M_1u} Mach\")\n",
    "\n",
    "    _,_,_,_,_,P_02_01 = normal(M_1u)\n",
    "    #print(f\"P_02_01 = {P_02_01}\")\n",
    "\n",
    "    A_2s_e = A_t_e / P_02_01\n",
    "    #print(f\"A_2s_e = {A_2s_e}\")\n",
    "\n",
    "    M_e = f2i(A_2s_e)[0]\n",
    "    #print(f\"M_e = {M_e} Mach\")\n",
    "\n",
    "    P_02_e = sP(M_e)\n",
    "    #print(f\"P_02_e = {P_02_e}\")\n",
    "\n",
    "    P_e = P_res * (P_02_01 / P_02_e)\n",
    "    #print(f\"\\n9.a: P_e = {P_e} Pa\")\n",
    "    #print(f\"9.a: P_e = {P_e / 100000} Bar\\n\")\n",
    "\n",
    "\n",
    "    # Part b\n",
    "    M_e_1 = f1i(M_t, A_t_e)[0]\n",
    "    P_res_b_1 = sP(M_e_1)\n",
    "    #print(f\"P_res_b_1 = {P_res_b_1}\")\n",
    "\n",
    "    P_res_b = 2 * P_res_b_1\n",
    "    #print(f\"P_res_b = {P_res_b}\")\n",
    "\n",
    "    def res(x):\n",
    "        r_t_e = np.sqrt(A_t_e)\n",
    "        r_c_e = r_t_e + x * (1 - r_t_e)\n",
    "        r_t_c = r_t_e / r_c_e\n",
    "        A_t_c = r_t_c**2\n",
    "\n",
    "        M_1u = f2i(A_t_c)[1]\n",
    "        _,_,_,_,_,P_02_01 = normal(M_1u)\n",
    "        A_2s_e = A_t_e / P_02_01\n",
    "        M_e = f2i(A_2s_e)[0]\n",
    "        P_02_e = sP(M_e)\n",
    "\n",
    "        res = (P_02_e / P_02_01) - P_res_b \n",
    "        return res\n",
    "\n",
    "    x_xe = opt.bisect(lambda x: res(x), 0, 1)\n",
    "    print(f\"\\n9b: x_xe = {x_xe}\\n\")\n",
    "Q9()\n"
   ]
  },
  {
   "cell_type": "markdown",
   "id": "4b1e8cd9",
   "metadata": {},
   "source": [
    "# Homework 7 Solutions"
   ]
  },
  {
   "cell_type": "code",
   "execution_count": 49,
   "id": "a4e2107b",
   "metadata": {},
   "outputs": [],
   "source": [
    "# Functions \n",
    "gamma = 1.4 \n",
    "gam = 1.4\n",
    "\n",
    "def sT(Mach):\n",
    "    return 1 + ((gamma - 1) / 2) * Mach**2\n",
    "\n",
    "def sP(Mach):\n",
    "    return sT(Mach)**(gamma / (gamma - 1))\n",
    "\n",
    "def normal_shock_ratios(M1, gam):\n",
    "    pr = 1 + ((2*gam/(gam + 1)) * ((M1**2) - 1))\n",
    "    dr = ((gam + 1)*M1**2)/(2 + (gam-1)*M1**2)\n",
    "    x = pr\n",
    "    y = (dr)**-1\n",
    "    tr = x*y\n",
    "    ur = y\n",
    "    x = ( ((gam+1)*M1**2)/((gam-1)*M1**2 + 2))**(gam/(gam-1))\n",
    "    y = ( (gam + 1) / (2*gam*M1**2 - (gam - 1)) )** (1/(gam - 1))\n",
    "    p0r = x*y\n",
    "    x = 1 + ((gam - 1)/2) * M1**2\n",
    "    y = (gam*M1**2) - (gam - 1)/2\n",
    "    M2 = math.sqrt(x/y)\n",
    "    t0r = ((tr)**-1) * ( (1 + ((gam-1)/2)* M1**2) / (1 + ((gam-1)/2)*M2**2))\n",
    "    cv = R / (gam - 1)\n",
    "    ds = cv * math.log(tr) - R * math.log(dr)\n",
    "    return pr, dr, tr, ur, p0r, M2, t0r, ds\n",
    "\n",
    "def sutherlund_mu(T):\n",
    "    return 1.458e-6*T**1.5/(T+110.4)\n",
    "\n",
    "def get_mdot(p0,T0,Ast):\n",
    "    return p0*Ast*np.sqrt((1.4*sT(1,1.4))/(287.05*T0))/sP(1,1.4)\n"
   ]
  },
  {
   "cell_type": "code",
   "execution_count": 50,
   "id": "60891067",
   "metadata": {},
   "outputs": [
    {
     "name": "stdout",
     "output_type": "stream",
     "text": [
      "\n",
      "1a: P_0 = 7.8503245502379455 bar\n",
      "\n",
      "1b: T_0 = 497.6733769626993 K\n",
      "\n",
      "1c: A_t = 0.0015999999999999988 m^2\n",
      "\n",
      "1d: m_dot = 2.2755002847846764 kg/s\n"
     ]
    }
   ],
   "source": [
    "\n",
    "# Problem 1\n",
    "def Q1():\n",
    "    h_0 = 0.5*10**6 # MJ/kg -> J/kg\n",
    "    Re = 10**7 # Re/m\n",
    "    M_e = 5 # Mach \n",
    "    A_test = 0.04 #m^2\n",
    "    \n",
    "    T_0 = h_0/Cp # K\n",
    "    #print(f\"T_0 = {T_0} K\")\n",
    "    \n",
    "    T_e = T_0/sT(M_e) # K \n",
    "    #print(f\"T_e = {T_e} K\")\n",
    "    \n",
    "    a_e = np.sqrt(gamma*R*T_e) # m/s\n",
    "    #print(f\"a_a = {a_e} m/s\")\n",
    "    \n",
    "    u_e = M_e * a_e # m/s \n",
    "    #print(f\"u_e = {u_e} m/s\")\n",
    "    \n",
    "    mu_e = ((1.456 * 10**(-6))*(T_e**(3/2)))/(T_e + 110.4)\n",
    "    #print(f\"mu_e = {mu_e} unit\")\n",
    "    \n",
    "    rho_e = (Re * mu_e)/u_e # kg/m^3\n",
    "    #print(f\"rho_e = {rho_e} kg/m^3\")\n",
    "    \n",
    "    P_e = rho_e * R * T_e # Pa \n",
    "    #print(f\"P_e = {P_e} Pa\")\n",
    "    \n",
    "    P_0 = sP(M_e) * P_e # Pa\n",
    "    #print(f\"\\n1a: P_0 = {P_0} Pa\")\n",
    "    print(f\"\\n1a: P_0 = {P_0/100000} bar\")\n",
    "    \n",
    "    print(f\"\\n1b: T_0 = {T_0} K\")\n",
    "    \n",
    "    A_t = (f2(sP(M_e)) * A_test)/(sP(M_e)*(P_e/P_0))\n",
    "    print(f\"\\n1c: A_t = {A_t} m^2\")\n",
    "    \n",
    "    m_dot = rho_e*u_e*A_test\n",
    "    print(f\"\\n1d: m_dot = {m_dot} kg/s\")\n",
    "\n",
    "Q1()"
   ]
  },
  {
   "cell_type": "code",
   "execution_count": 51,
   "id": "39fe2772",
   "metadata": {},
   "outputs": [
    {
     "name": "stdout",
     "output_type": "stream",
     "text": [
      "2: p0r = 3.045587373379383 \n"
     ]
    }
   ],
   "source": [
    "# Problem 2 \n",
    "\n",
    "M_e = 3 # Mach\n",
    "\n",
    "def Q2(): \n",
    "    p0r = normal_shock_ratios(M_e,1.4)[4] # p0r = Atr\n",
    "    print(f\"2: p0r = {1/p0r} \")\n",
    "\n",
    "Q2()\n",
    "    "
   ]
  },
  {
   "cell_type": "code",
   "execution_count": 52,
   "id": "ff5ca049",
   "metadata": {},
   "outputs": [
    {
     "name": "stdout",
     "output_type": "stream",
     "text": [
      "3: At2_At1 = 9.001760925123842 \n"
     ]
    }
   ],
   "source": [
    "# Problem 3\n",
    "eta = 1.8\n",
    "M_e = 5 \n",
    "\n",
    "def Q3(): \n",
    "    p0r = normal_shock_ratios(M_e,1.4)[4]\n",
    "    print(f\"3: At2_At1 = {1/(eta*p0r)} \")\n",
    "\n",
    "Q3()\n"
   ]
  },
  {
   "cell_type": "markdown",
   "id": "07331f58",
   "metadata": {},
   "source": [
    "# Homework 8 Solutions"
   ]
  },
  {
   "cell_type": "code",
   "execution_count": 53,
   "id": "2ff4a795",
   "metadata": {},
   "outputs": [],
   "source": [
    "# Functions \n",
    "\n",
    "gamma = 1.4\n",
    "import numpy as np\n",
    "from scipy.optimize import minimize\n",
    "\n",
    "import math\n",
    "\n",
    "def sT(Mach):\n",
    "    return 1 + ((1.4 - 1) / 2) * Mach**2\n",
    "\n",
    "def sP(Mach):\n",
    "    return sT(Mach)**(1.4 / (1.4 - 1))\n",
    "\n",
    "def calculate_sigma_max(M1, M2):\n",
    "    function = (((1 + (1.4*M1**2))/(1 + (1.4*M2**2)))**2) * (M2/M1)**2\n",
    "    sigma_max = sT(M2)*(function) - sT(M1)\n",
    "    return sigma_max\n",
    "\n",
    "def calculate_Rayleigh(M_2, sigma, M_1):\n",
    "    return (sT(M_1) + sigma) / sT(M_2) - ((1 + 1.4 * M_1**2) / (1 + 1.4 * M_2**2))**2 * (M_2 / M_1)**2\n",
    "\n",
    "def calculate_T2_T1(M1, M2, sigma):\n",
    "    T2_T1 = (sT(M1) + sigma)/sT(M2)\n",
    "    return T2_T1\n",
    "\n",
    "def calculate_p2_p1(M1, M2):\n",
    "    p2_p1 = (1 + (1.4 * M1**2))/(1 + (1.4 * M2**2)) \n",
    "    return p2_p1\n",
    "\n",
    "def calculate_p02_p01(M1, M2, p2_p1):\n",
    "    p02_p01 = (sP(M2)/sP(M1)) * p2_p1 \n",
    "    return p02_p01\n",
    "\n",
    "def calculate_max_fuel_burn_rate(rho,M1,T1,A1,q,temperature_limit):\n",
    "    # Given values\n",
    "    gamma = 1.4 \n",
    "    R = 287.05 # J/kgK\n",
    "    Cp = (gamma * R) / (gamma - 1) # 1004.675 J/kgK\n",
    "    m_burn = rho*M1*A1*np.sqrt(1.4*R*T1)*Cp*(temperature_limit - sT(M1)*T1)/q\n",
    "\n",
    "    return m_burn\n",
    "\n",
    "R = 287.05 # J/kgK\n",
    "gamma = 1.4\n",
    "\n",
    "Cv = R / (gamma - 1) # 717.625 J/kgK\n",
    "Cp = (gamma * R) / (gamma - 1) # 1004.675 J/kgK\n"
   ]
  },
  {
   "cell_type": "code",
   "execution_count": 68,
   "id": "8ffe438b",
   "metadata": {},
   "outputs": [
    {
     "name": "stdout",
     "output_type": "stream",
     "text": [
      "M2:  1.234767532495749\n",
      "T2/T1:  1.1878030207465786\n",
      "P2/P1:  1.323970383641046\n",
      "P02/P01:  0.9154733730098705\n",
      "Sigma Max: 0.14467592592592557\n"
     ]
    }
   ],
   "source": [
    "# Problem 1\n",
    "# Given values\n",
    "M_1 = 1.5\n",
    "M_2_curve = 1 # Value found from derivation\n",
    "sigma = 0.1 # sigma = delta_q/h1, and delta_q = 0.1h1\n",
    " \n",
    "def sigmamax(sigma_max, M1):\n",
    "    return (1/M1) * (np.sqrt(1.2 / (1 + 0.2 * M1 ** 2 + sigma_max))) - (2.4 / (1 + 1.4 * M1 ** 2))\n",
    "def M2_function(M2, sigma, M1):\n",
    "    return (M2/M1) * (np.sqrt((1 + 0.2 * M2 ** 2) / (1 + 0.2 * M1 ** 2 + sigma))) - ((1 + 1.4 * M2 ** 2) / (1 + 1.4 * M1 ** 2))\n",
    " \n",
    "def p1(sigma, M1):\n",
    "    sigma_max = fsolve(lambda sigma: sigmamax(sigma, M1), 1)[0]\n",
    "    M2 = fsolve(lambda x: M2_function(x, sigma, M1), M1)[0]\n",
    "    T21 = ((1 + 0.2 * M1 ** 2 + sigma))/(1 + 0.2 * M2 ** 2)\n",
    "    P21 = ((1 + 1.4 * M2 ** 2) / (1 + 1.4 * M1 ** 2))**-1\n",
    "    P02P01 = P21 * (((1+0.2*M2**2)**3.5)/(1+0.2*M1**2)**3.5)\n",
    "    print(\"M2: \", M2)\n",
    "    print(\"T2/T1: \",T21)\n",
    "    print(\"P2/P1: \",P21)\n",
    "    print(\"P02/P01: \",P02P01)\n",
    "    print(\"Sigma Max:\", sigma_max)\n",
    "    return\n",
    " \n",
    "p1(0.1,1.5)"
   ]
  },
  {
   "cell_type": "code",
   "execution_count": 70,
   "id": "4491a9b7",
   "metadata": {},
   "outputs": [
    {
     "name": "stdout",
     "output_type": "stream",
     "text": [
      "M2:  0.5478851712846577\n",
      "T2/T1:  1.0848691922101055\n",
      "P2/P1:  0.9505372619564604\n",
      "P02/P01:  0.9827164442147391\n",
      "Sigma Max: 0.46874999999999983\n"
     ]
    }
   ],
   "source": [
    "# Problem 2\n",
    "# Given values\n",
    "M_1 = 1.5\n",
    "M_2_curve = 1 # Value found from derivation\n",
    "sigma = 0.1 # sigma = delta_q/h1, and delta_q = 0.1h1\n",
    " \n",
    "def sigmamax(sigma_max, M1):\n",
    "    return (1/M1) * (np.sqrt(1.2 / (1 + 0.2 * M1 ** 2 + sigma_max))) - (2.4 / (1 + 1.4 * M1 ** 2))\n",
    "def M2_function(M2, sigma, M1):\n",
    "    return (M2/M1) * (np.sqrt((1 + 0.2 * M2 ** 2) / (1 + 0.2 * M1 ** 2 + sigma))) - ((1 + 1.4 * M2 ** 2) / (1 + 1.4 * M1 ** 2))\n",
    " \n",
    "def p1(sigma, M1):\n",
    "    sigma_max = fsolve(lambda sigma: sigmamax(sigma, M1), 1)[0]\n",
    "    M2 = fsolve(lambda x: M2_function(x, sigma, M1), M1)[0]\n",
    "    T21 = ((1 + 0.2 * M1 ** 2 + sigma))/(1 + 0.2 * M2 ** 2)\n",
    "    P21 = ((1 + 1.4 * M2 ** 2) / (1 + 1.4 * M1 ** 2))**-1\n",
    "    P02P01 = P21 * (((1+0.2*M2**2)**3.5)/(1+0.2*M1**2)**3.5)\n",
    "    print(\"M2: \", M2)\n",
    "    print(\"T2/T1: \",T21)\n",
    "    print(\"P2/P1: \",P21)\n",
    "    print(\"P02/P01: \",P02P01)\n",
    "    print(\"Sigma Max:\", sigma_max)\n",
    "    return\n",
    " \n",
    "p1(0.1,0.5)"
   ]
  },
  {
   "cell_type": "code",
   "execution_count": 56,
   "id": "2f76ed51",
   "metadata": {},
   "outputs": [
    {
     "name": "stdout",
     "output_type": "stream",
     "text": [
      "3a: M_2 = 0.8451535870481528 Mach \n"
     ]
    }
   ],
   "source": [
    "# Problem 3\n",
    "\n",
    "# Given values\n",
    "M_1 = 0.8\n",
    "T_1 = 650\n",
    "\n",
    "def Q3():\n",
    "    rayleigh = lambda M_2: -calculate_T2_T1(M_1, M_2, calculate_sigma_max(M_1, M_2))\n",
    "\n",
    "    # Perform optimization\n",
    "    M_2 = minimize(rayleigh, x0=0.5, bounds=[(0, 1)])\n",
    "\n",
    "    # Extract the optimized Mach number\n",
    "    M_2 = M_2.x[0]\n",
    "    \n",
    "    print(f\"3a: M_2 = {M_2} Mach \")\n",
    "\n",
    "Q3()"
   ]
  },
  {
   "cell_type": "code",
   "execution_count": 57,
   "id": "b96eeac4",
   "metadata": {},
   "outputs": [
    {
     "name": "stdout",
     "output_type": "stream",
     "text": [
      "4a: m_burn = 4.673545670492105 kg/s\n"
     ]
    }
   ],
   "source": [
    "# Problem 4\n",
    "# Given values\n",
    "rho = 0.195  # kg/m^3\n",
    "T1 = 217  # K\n",
    "p1 = 217  # Pa\n",
    "A1 = 1 \n",
    "M1 = 4\n",
    "q = 4.4e7\n",
    "temperature_limit = 1800\n",
    "\n",
    "def sT(Mach):\n",
    "    return 1 + ((1.4 - 1) / 2) * Mach**2\n",
    "\n",
    "def calculate_max_fuel_burn_rate(rho,M1,T1,A1,q,temperature_limit):\n",
    "    # Given values\n",
    "    gamma = 1.4 \n",
    "    R = 287.05 # J/kgK\n",
    "    Cp = (gamma * R) / (gamma - 1) # 1004.675 J/kgK\n",
    "    m_burn = rho*M1*A1*np.sqrt(1.4*R*T1)*Cp*(temperature_limit - sT(M1)*T1)/q\n",
    "\n",
    "    return m_burn\n",
    "\n",
    "\n",
    "def Q4():\n",
    "    m_burn = calculate_max_fuel_burn_rate(rho,M1,T1,A1,q,temperature_limit)\n",
    "    print(f\"4a: m_burn = {m_burn} kg/s\")\n",
    "Q4()\n"
   ]
  },
  {
   "cell_type": "code",
   "execution_count": 58,
   "id": "fcf54a07",
   "metadata": {},
   "outputs": [
    {
     "name": "stdout",
     "output_type": "stream",
     "text": [
      "5a: M_2a 0.8456038004460424 Mach\n",
      "5b: P02_P01_a = 0.9079965641370861\n",
      "5c: M_2b 1.1550432922950264 Mach\n",
      "5d: P02_P01_b = 0.6730592264539681\n"
     ]
    }
   ],
   "source": [
    "# Problem 5\n",
    "\n",
    "import math\n",
    "\n",
    "def rayleigh(M_1, sigma): \n",
    "    def res(M_2): \n",
    "        L = (M_1/(1 + 1.4 * M_1**2)) * np.sqrt(sT(M_1) + sigma)\n",
    "        R = (M_2/(1 + 1.4 * M_2**2)) * np.sqrt(sT(M_2))\n",
    "        res = R-L \n",
    "        return res\n",
    "    if M_1 >=1: \n",
    "        M_2 = opt.bisect(lambda M_2: res(M_2), 1, 99999)\n",
    "    else: \n",
    "        M_2 = opt.bisect(lambda M_2: res(M_2), 0, 1)\n",
    "        \n",
    "    T02_T01 = 1 + sigma/ sT(M_1)\n",
    "    T2_T1 = T02_T01 * (sT(M_1)/sT(M_2))\n",
    "    P2_P1 = (1 + 1.4*M_1**2)/(1 + 1.4*M_2**2)\n",
    "    P02_P01 = P2_P1*(sP(M_2)/sP(M_1))\n",
    "    \n",
    "    return M_2, T02_T01, T2_T1, P02_P01, P2_P1\n",
    "\n",
    "\n",
    "def Q5():\n",
    "    \n",
    "    # Given values\n",
    "    T_1 = 1000  # Upstream temperature in K\n",
    "    h_rxn = -4.4 * 10**7  # Heat of reaction in J/kg\n",
    "    mdot = 800  # Mass flow rate through the duct in kg/s\n",
    "    mdot_fuel = 8  # Fuel burning rate in kg/s\n",
    "    \n",
    "    d_q = -(mdot_fuel/mdot)*h_rxn # J/kg-K\n",
    "#     print(f\"d_q = {d_q} J/kg-K\")\n",
    "    \n",
    "    d_s = d_q/T_1 # J/kg-K\n",
    "#     print(f\"d_s = {d_s} J/kg-K\")\n",
    "    \n",
    "    sigma = d_s/Cp # J/kg-K\n",
    "#     print(f\"sigma = {sigma} J/kg-K\")\n",
    "    \n",
    "    M_1a = 0.5 # Mach\n",
    "    M_1b = 2.0 # Mach\n",
    "    \n",
    "    M_2a,_,_, P02_P01_a,_  = rayleigh(M_1a, sigma)   \n",
    "    print(f\"5a: M_2a {M_2a} Mach\")\n",
    "    print(f\"5b: P02_P01_a = {P02_P01_a}\")\n",
    "    \n",
    "    M_2b,_,_, P02_P01_b,_ = rayleigh(M_1b, sigma) \n",
    "    print(f\"5c: M_2b {M_2b} Mach\")\n",
    "    print(f\"5d: P02_P01_b = {P02_P01_b}\")\n",
    "\n",
    "Q5()\n"
   ]
  },
  {
   "cell_type": "markdown",
   "id": "6a3eb527",
   "metadata": {},
   "source": [
    "# Homework 9 Solutions"
   ]
  },
  {
   "cell_type": "code",
   "execution_count": 59,
   "id": "1a7991bf",
   "metadata": {},
   "outputs": [],
   "source": [
    "# Homework 9\n",
    "import numpy as np\n",
    "from scipy.optimize import fsolve\n",
    "gamma = 1.4\n",
    "gam = 1.4\n",
    "\n",
    "def st(M):\n",
    "    return (1 + ((gamma-1)/2)*M**2)\n",
    "\n",
    "def sp(M,gam): #Stagnation to Static Pressure ratio\n",
    "    return (st(M)**(gam/(gam-1)))"
   ]
  },
  {
   "cell_type": "code",
   "execution_count": 60,
   "id": "74686166",
   "metadata": {},
   "outputs": [
    {
     "name": "stdout",
     "output_type": "stream",
     "text": [
      "1: CD = 0.00577\n"
     ]
    }
   ],
   "source": [
    "# Problem 1 ------------------------------------------------------------------\n",
    "M = 2\n",
    "wavelength = np.sqrt(M**2 - 1)\n",
    "ea = 0.1\n",
    "CD = (ea**2)/wavelength\n",
    "print(f\"1: CD = {CD:.5f}\")"
   ]
  },
  {
   "cell_type": "code",
   "execution_count": 61,
   "id": "55021f9b",
   "metadata": {},
   "outputs": [],
   "source": [
    "# Values for Problems 2-4 ----------------------------------------------------\n",
    "M = 2\n",
    "t_c = 0.1\n",
    "aoa = 5 * (np.pi/180) # Angle of attack in radians\n",
    "wavelength = np.sqrt(M**2 - 1)"
   ]
  },
  {
   "cell_type": "code",
   "execution_count": 62,
   "id": "a555184a",
   "metadata": {},
   "outputs": [
    {
     "name": "stdout",
     "output_type": "stream",
     "text": [
      "2a: CL = 0.2015\n",
      "2b: CD = 0.04068\n",
      "2c: Max L/D Angle of Attack = 5.7296\n"
     ]
    }
   ],
   "source": [
    "# Problem 2: Diamond Airfoil -------------------------------------------------\n",
    "\n",
    "    # Part A: CL\n",
    "CL = (4*aoa)/wavelength\n",
    "print(f\"2a: CL = {CL:.4f}\")\n",
    "\n",
    "    # Part B: CD\n",
    "CD = (4/wavelength)*(aoa**2 + (t_c**2))\n",
    "print(f\"2b: CD = {CD:.5f}\")\n",
    "\n",
    "    # Part C: AOA of Maximum L/D\n",
    "K = 1\n",
    "aoa_to_max_LD = t_c * np.sqrt(K)\n",
    "aoa_to_max_LD_deg = aoa_to_max_LD * (180/np.pi)\n",
    "print(f\"2c: Max L/D Angle of Attack = {aoa_to_max_LD_deg:.4f}\")\n"
   ]
  },
  {
   "cell_type": "code",
   "execution_count": 63,
   "id": "6d7f6d7c",
   "metadata": {},
   "outputs": [
    {
     "name": "stdout",
     "output_type": "stream",
     "text": [
      "3a: CL = 0.2015\n",
      "3b: CD = 0.14076\n",
      "3c: Max L/D Angle of Attack = 13.2319\n"
     ]
    }
   ],
   "source": [
    "# Problem 3: Biconvex Airfoil ------------------------------------------------\n",
    "\n",
    "    # Part A:\n",
    "CL = (4*aoa)/wavelength\n",
    "print(f\"3a: CL = {CL:.4f}\")\n",
    "\n",
    "    # Part B:\n",
    "CD = (4/wavelength)*(aoa**2 + (16/3)*(t_c**2))\n",
    "print(f\"3b: CD = {CD:.5f}\")\n",
    "\n",
    "    # Part C:\n",
    "K = 16/3\n",
    "aoa_to_max_LD = t_c * np.sqrt(K)\n",
    "aoa_to_max_LD_deg = aoa_to_max_LD * (180/np.pi)\n",
    "print(f\"3c: Max L/D Angle of Attack = {aoa_to_max_LD_deg:.4f}\")"
   ]
  },
  {
   "cell_type": "code",
   "execution_count": 64,
   "id": "719c2313",
   "metadata": {},
   "outputs": [
    {
     "name": "stdout",
     "output_type": "stream",
     "text": [
      "4a: CL = 0.2015\n",
      "4b: CD = 0.07217\n",
      "4c: Max L/D Angle of Attack = 10.1286\n"
     ]
    }
   ],
   "source": [
    "# Problem 4: Wedge Airfoil ---------------------------------------------------\n",
    "p_c = .8\n",
    "t_c = .1\n",
    "\n",
    "    # Part A:\n",
    "CL = (4*aoa)/wavelength\n",
    "print(f\"4a: CL = {CL:.4f}\")\n",
    "\n",
    "    # Part B:\n",
    "CD = (2/wavelength) * (t_c**2) * ((1/p_c) + 1/(1 - p_c))\n",
    "print(f\"4b: CD = {CD:.5f}\") # Unknown Error\n",
    "    # Part C:\n",
    "K = ((1/p_c) + (1/(1 - p_c)))/2\n",
    "aoa_to_max_LD = t_c * np.sqrt(K)\n",
    "aoa_to_max_LD_deg = aoa_to_max_LD * (180/np.pi)\n",
    "print(f\"4c: Max L/D Angle of Attack = {aoa_to_max_LD_deg:.4f}\")"
   ]
  },
  {
   "cell_type": "code",
   "execution_count": 65,
   "id": "217f4b2e",
   "metadata": {},
   "outputs": [],
   "source": [
    "# Problem 5/6 CP Function ----------------------------------------------------\n",
    "\n",
    "def CP(Mcr,Cp):\n",
    "    return (Cp/(np.sqrt(1-Mcr**2)))-(2/(1.4*Mcr**2))*(((1+0.2*Mcr**2)**3.5)/((1+0.2*1**2)**3.5)-1)"
   ]
  },
  {
   "cell_type": "code",
   "execution_count": 66,
   "id": "2446a2a2",
   "metadata": {},
   "outputs": [
    {
     "name": "stdout",
     "output_type": "stream",
     "text": [
      "5: Mcr: 0.743627508\n"
     ]
    }
   ],
   "source": [
    "# Problem 5 ------------------------------------------------------------------\n",
    "\n",
    "def p5(Cp):\n",
    "    args=(Cp)\n",
    "    Mcr=fsolve(CP,.5,args=args)[0]\n",
    "    return print(f\"5: Mcr: {Mcr:.9f}\")\n",
    " \n",
    "Mcr = p5(-0.41)"
   ]
  },
  {
   "cell_type": "code",
   "execution_count": 67,
   "id": "c679a35e",
   "metadata": {},
   "outputs": [
    {
     "name": "stdout",
     "output_type": "stream",
     "text": [
      "6a: Cp: -1.862\n",
      "6b: Cp0: -1.6899\n"
     ]
    }
   ],
   "source": [
    "# Problem 6 ------------------------------------------------------------------\n",
    "\n",
    "def p6(Mf,Ml):\n",
    "    Cp = (2/(1.4*Mf**2))*(((1+0.2*Mf**2)**3.5)/((1+0.2*Ml**2)**3.5)-1)\n",
    "    Cp0 = Cp*(np.sqrt(1-Mf**2))\n",
    "    return print(f\"6a: Cp: {Cp:.3f}\"),print(f\"6b: Cp0: {Cp0:.4f}\")\n",
    " \n",
    "Cp = p6(0.42,0.76)"
   ]
  }
 ],
 "metadata": {
  "kernelspec": {
   "display_name": "Python 3 (ipykernel)",
   "language": "python",
   "name": "python3"
  },
  "language_info": {
   "codemirror_mode": {
    "name": "ipython",
    "version": 3
   },
   "file_extension": ".py",
   "mimetype": "text/x-python",
   "name": "python",
   "nbconvert_exporter": "python",
   "pygments_lexer": "ipython3",
   "version": "3.10.8"
  }
 },
 "nbformat": 4,
 "nbformat_minor": 5
}
